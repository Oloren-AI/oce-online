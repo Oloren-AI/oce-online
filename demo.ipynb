{
 "cells": [
  {
   "cell_type": "code",
   "execution_count": 5,
   "metadata": {},
   "outputs": [
    {
     "name": "stdout",
     "output_type": "stream",
     "text": [
      "render_ipynb\n"
     ]
    }
   ],
   "source": [
    "import olorenchemengine as oce\n",
    "# oce.runtime.change_runtime(\"server\")\n",
    "dataset = oce.ExampleDataset()\n",
    "model = oce.BaseBoosting([\n",
    "         oce.RandomForestModel(oce.DescriptastorusDescriptor(\"rdkit2dnormalized\"), n_estimators=1000),\n",
    "         oce.RandomForestModel(oce.OlorenCheckpoint(\"default\"), n_estimators=1000)])\n",
    "# model.fit(*dataset.train_dataset)\n",
    "vis = oce.ChemicalSpacePlot(dataset, oce.DescriptastorusDescriptor(\"morgan3counts\"), opacity = 0.4, dim_reduction = \"tsne\")\n",
    "x = vis.render_ipynb()"
   ]
  },
  {
   "cell_type": "code",
   "execution_count": null,
   "metadata": {},
   "outputs": [
    {
     "name": "stdout",
     "output_type": "stream",
     "text": [
      "CREATE 3c0debe1-47d3-425c-8068-1768a2c7ad36 = BaseDataset(args=[], kwargs={'name': None, 'data': None, 'structure_col': None, 'property_col': None, 'feature_cols': [], 'date_col': None, 'log': True})\n",
      "olorenchemengine.dataset.BaseDataset\n"
     ]
    }
   ],
   "source": [
    "def true_repr(x):\n",
    "    type_ = type(x)\n",
    "    module = type_.__module__\n",
    "    qualname = type_.__qualname__\n",
    "    return f\"{module}.{qualname}\"\n",
    "\n",
    "print()"
   ]
  },
  {
   "cell_type": "code",
   "execution_count": null,
   "metadata": {},
   "outputs": [],
   "source": []
  }
 ],
 "metadata": {
  "kernelspec": {
   "display_name": "Python 3.8.13 ('oce')",
   "language": "python",
   "name": "python3"
  },
  "language_info": {
   "codemirror_mode": {
    "name": "ipython",
    "version": 3
   },
   "file_extension": ".py",
   "mimetype": "text/x-python",
   "name": "python",
   "nbconvert_exporter": "python",
   "pygments_lexer": "ipython3",
   "version": "3.8.13"
  },
  "orig_nbformat": 4,
  "vscode": {
   "interpreter": {
    "hash": "93764465e194cf3d58782db1836d355e1a3bb91be1d6947cf03499a4ecb33ccd"
   }
  }
 },
 "nbformat": 4,
 "nbformat_minor": 2
}
