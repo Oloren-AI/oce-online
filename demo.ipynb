{
 "cells": [
  {
   "cell_type": "code",
   "execution_count": 2,
   "metadata": {},
   "outputs": [
    {
     "name": "stdout",
     "output_type": "stream",
     "text": [
      "Remote Call: [{'type': 'CREATE', 'REMOTE_ID': '81c7227d-7bd4-41dd-804e-dc82fe26a1a4', 'parameters': {'BC_class_name': 'BaseDataset', 'args': [], 'kwargs': {'data': ',Smiles,pChEMBL Value\\n0,CC1=CC(C)(C)Nc2ccc(-c3ccsc3C#N)cc21,0\\n1,CN(C)c1ccc([C@H]2C[C@]3(C)[C@@H](CC[C@]3(O)CCCO)[C@@H]3CCC4=CC(=O)CCC4=C32)cc1,1\\n2,CN(C)c1ccc([C@H]2C[C@]3(C)[C@@H](CC[C@]3(O)CCCO)[C@@H]3CCC4=CC(=O)CCC4=C32)cc1,0\\n3,CC#C[C@]1(O)CC[C@H]2[C@@H]3CCC4=CC(=O)CCC4=C3[C@@H](c3ccc(N(C)CCCCCC)cc3)C[C@@]21C,1\\n4,CC#C[C@]1(O)CC[C@H]2[C@@H]3CCC4=CC(=O)CCC4=C3[C@@H](c3ccc(N(C)CCCCCC=O)cc3)C[C@@]21C,1\\n5,CC#C[C@]1(O)CC[C@H]2[C@@H]3CCC4=CC(=O)CCC4=C3[C@@H](c3ccc(N(C)CCCCCCCC(=O)OC)cc3)C[C@@]21C,1\\n6,CC#C[C@]1(O)CC[C@H]2[C@@H]3CCC4=CC(=O)CCC4=C3[C@@H](c3ccc(N(C)C(=O)NCCCC)cc3)C[C@@]21C,0\\n7,CC#C[C@]1(O)CC[C@H]2[C@@H]3CCC4=CC(=O)CCC4=C3[C@@H](c3ccc(N(C)C(=O)NCCCCCC(=O)N[C@@H](CC(C)C)C(=O)OC(C)(C)C)cc3)C[C@@]21C,1\\n8,CC#C[C@]1(O)CC[C@H]2[C@@H]3CCC4=CC(=O)CCC4=C3[C@@H](c3ccc(N(C)CCC(=O)Nc4ccc(C(N)=O)c(O)c4)cc3)C[C@@]21C,0\\n9,CC#C[C@]1(O)CC[C@H]2[C@@H]3CCC4=CC(=O)CCC4=C3[C@@H](c3ccc(NC)cc3)C[C@@]21C,1\\n10,CC#C[C@]1(O)CC[C@H]2[C@@H]3CCC4=CC(=O)CCC4=C3[C@@H](c3ccc(N(C)CCC(=O)O)cc3)C[C@@]21C,0\\n11,CCC1(CC)OC(=O)N(C)c2ccc(Nc3cccc(Cl)c3)cc21,1\\n12,CCC1(CC)OC(=O)N(C)c2ccc(Nc3cccc(Cl)c3Cl)cc21,1\\n13,CC1(C)OC(=O)Nc2ccc(-c3ccc(F)c(C#N)c3)cc21,1\\n14,CC1(C)OC(=O)N(Cc2ccccc2)c2ccc(Nc3ccc(Br)cc3)cc21,0\\n15,CC(C)N1C(=O)OC(C)(C)c2cc(Nc3ccc(Br)cc3)ccc21,0\\n16,CN1C(=O)OC(C)(C)c2cc(Nc3cccc(Cl)c3Cl)ccc21,0\\n17,CCCCn1c2ccccc2c2ccc3c(c21)C(C)=CC(C)(C)N3,0\\n18,CC1(C)[C@H](O)CC[C@]2(C)[C@@]3(C)c4[nH]c5ccccc5c4C[C@@H]3CC[C@@]12O,0\\n19,CC1=CC(C)(C)Nc2cc3oc4ccccc4c3cc21,0\\n20,CS(=O)(=O)Nc1ccc2c(c1)C(c1ccccc1)Oc1cccc(OC(F)F)c1-2,0\\n21,CC1=CC(C)(C)Nc2ccc3c(c21)/C(=C/C=O)Oc1ccc(F)cc1-3,0\\n22,CC#C[C@]1(O)CC[C@H]2[C@@H]3CCC4=CC(=O)CCC4=C3[C@@H](c3ccc(N(C)C)cc3)C[C@@]21C,1\\n23,CC1(C)C(=O)Nc2ccc(-c3cc(F)cc(Cl)c3)cc21,1\\n24,C=C1C(C)=CCC(C)(C)[C@@H]1Cc1cc(OC)c(Br)cc1OC(C)=O,0\\n25,C=C1C(C)=CCC(C)(C)[C@@H]1Cc1cc(OC)c(Br)cc1OC(C)=O,0\\n26,COc1ccccc1-c1ccc2c(c1)C(C(C)OCCc1cccc(Cl)c1)=CC(C)(C)N2,0\\n27,CC#C[C@]1(O)CC[C@H]2[C@@H]3CCC4=CC(=O)CCC4=C3[C@@H](c3ccc(N(C)C)cc3)C[C@@]21C,1\\n28,O=[N+]([O-])c1cccc(-c2ccc3nc(S)n(Cc4ccccc4)c3c2)c1,1\\n29,COc1ccc(-c2ccc([C@H]3C[C@]4(C)[C@@H](C(=O)C5CC5)CC[C@H]4[C@@H]4CCC5=CC(=O)CCC5=C43)cc2)cn1,1\\n30,O=C(c1ccc([N+](=O)[O-])cc1)N1CCCC(c2ccc(Cl)c(Cl)c2)=N1,0\\n31,CCOc1cccc2c1-c1ccc(NS(C)(=O)=O)cc1C(c1ccccc1)O2,0\\n32,C[C@@H]1C[C@H]2[C@@H]3CCC4=CC(=O)CCC4=C3[C@@H](c3ccc(-c4ccccn4)cc3)C[C@]2(C)[C@H]1C(=O)C1CC1,1\\n33,Cc1c(NS(C)(=O)=O)cccc1N(Cc1ccccc1)Cc1ccc(Oc2ccc(OCC(=O)O)cc2)cc1,0\\n34,CC1=CC(C)(C)Nc2ccc3c(c21)COc1c(Cl)cccc1-3,0\\n35,C=C1C=C(C)CC(C)(C)C1Cc1ccc([N+](=O)[O-])cc1,0\\n36,C=C1C=C(C)CC(C)(C)C1Sc1ccc([N+](=O)[O-])cc1,0\\n37,C=C1CCCC(C)(C)C1Cc1cc(OC)c(Br)cc1O,0\\n38,CC1(C)OC(C(C)(C)C)Nc2ccc(-c3cc(F)cc(C#N)c3)cc21,0\\n39,CC(c1cn(C)nn1)N(Cc1ccccc1Cl)c1ccc(C#N)c(Cl)c1,0\\n40,C=C1CCO[C@]12CC[C@H]1[C@@H]3CCC4=CC(=O)CCC4=C3[C@@H](c3ccc(N(C)C)cc3)OC[C@@]12C,1\\n41,C[C@@H]1c2c(ccc3c2[C@H](c2ccc(Cl)cc2)Oc2ccccc2-3)NC(C)(C)[C@H]1O,0\\n42,CN(C)c1ccc([C@H]2OC[C@]3(C)[C@@H](O)CC[C@H]3[C@@H]3CCC4=CC(=O)CCC4=C32)cc1,0\\n43,CC(C)CC(c1nnnn1C)N(Cc1ccccc1Cl)c1ccc(C#N)c(Cl)c1,1\\n44,Cn1nnnc1CN(Cc1ccccc1Cl)c1ccc(C#N)c(Cl)c1,0\\n45,CCn1nnnc1C(C)N(Cc1ccccc1Cl)c1ccc(C#N)c(Cl)c1,1\\n46,CC(c1nnnn1C(C)C)N(Cc1ccccc1Cl)c1ccc(C#N)c(Cl)c1,0\\n47,CC(C)CC(c1nnnn1C)N(CC(C)C)c1ccc(C#N)c(Cl)c1,1\\n48,C=C(C)[C@]1(O)CC[C@H]2[C@@H]3CCC4=CC(=O)CCC4=C3[C@@H](c3ccc(SC)cc3)OC[C@@]21C,1\\n', 'structure_col': 'Smiles', 'property_col': 'pChEMBL Value', 'name': None, 'feature_cols': [], 'date_col': None, 'log': True}}}, {'type': 'CREATE', 'REMOTE_ID': '78889a33-1ed4-42b8-a2a9-013a9cd37124', 'parameters': {'BC_class_name': 'RandomSplit', 'args': [], 'kwargs': {'log': True}}}, {'type': 'SYMBOL', 'PARENT_REMOTE_ID': '78889a33-1ed4-42b8-a2a9-013a9cd37124', 'SYMBOL_NAME': 'transform', 'REMOTE_ID': '046cf2b6-9029-44f8-9c3d-294dc3a78d40'}, {'type': 'CALL', 'PARENT_REMOTE_ID': '046cf2b6-9029-44f8-9c3d-294dc3a78d40', 'REMOTE_ID': 'f1218ff7-039e-40a1-9895-eea17d8a2338', 'ARGUMENTS': {'args': [{'REMOTE_ID': '81c7227d-7bd4-41dd-804e-dc82fe26a1a4'}], 'kwargs': {}}}]\n",
      "Resulted in Traceback:\n",
      "Traceback (most recent call last):\n",
      "  File \"/app/tasks.py\", line 460, in run\n",
      "    obj = method(*args, **kwargs)\n",
      "  File \"/root/miniconda3/lib/python3.8/site-packages/olorenchemengine/splitters.py\", line 48, in transform\n",
      "    train, val, test = self.split(dataset.data, *args,\n",
      "AttributeError: 'dict' object has no attribute 'data'\n",
      "\n",
      "During handling of the above exception, another exception occurred:\n",
      "\n",
      "Traceback (most recent call last):\n",
      "  File \"/app/tasks.py\", line 504, in run_tasks\n",
      "    ret = runner.run()\n",
      "  File \"/app/tasks.py\", line 485, in run\n",
      "    raise RuntimeError(f\"Instruction {instruction} failed. Traceback:\\n{traceback.format_exc()}\")\n",
      "RuntimeError: Instruction {'type': 'CALL', 'PARENT_REMOTE_ID': '046cf2b6-9029-44f8-9c3d-294dc3a78d40', 'REMOTE_ID': 'f1218ff7-039e-40a1-9895-eea17d8a2338', 'ARGUMENTS': {'args': [{'REMOTE_ID': '81c7227d-7bd4-41dd-804e-dc82fe26a1a4'}], 'kwargs': {}}} failed. Traceback:\n",
      "Traceback (most recent call last):\n",
      "  File \"/app/tasks.py\", line 460, in run\n",
      "    obj = method(*args, **kwargs)\n",
      "  File \"/root/miniconda3/lib/python3.8/site-packages/olorenchemengine/splitters.py\", line 48, in transform\n",
      "    train, val, test = self.split(dataset.data, *args,\n",
      "AttributeError: 'dict' object has no attribute 'data'\n",
      "\n",
      "\n"
     ]
    },
    {
     "ename": "SystemExit",
     "evalue": "0",
     "output_type": "error",
     "traceback": [
      "An exception has occurred, use %tb to see the full traceback.\n",
      "\u001b[0;31mSystemExit\u001b[0m\u001b[0;31m:\u001b[0m 0\n"
     ]
    }
   ],
   "source": [
    "import olorenchemengine as oce \n",
    "\n",
    "with oce.Remote() as sid:\n",
    "    dataset = oce.ExampleDataset()\n",
    "    # vis = oce.ChemicalSpacePlot(\n",
    "    #     dataset, oce.DescriptastorusDescriptor(\"morgan3counts\"), opacity=0.4, dim_reduction=\"tsne\"\n",
    "    # )\n",
    "    # vis.render_ipynb()"
   ]
  },
  {
   "cell_type": "code",
   "execution_count": 1,
   "metadata": {},
   "outputs": [
    {
     "name": "stdout",
     "output_type": "stream",
     "text": [
      "True\n",
      "Sending instructions...\n",
      "[\n",
      "    {\n",
      "        \"type\": \"CREATE\",\n",
      "        \"REMOTE_ID\": \"e95a7cde-dbdb-46be-9131-cef881c26e11\",\n",
      "        \"parameters\": {\n",
      "            \"BC_class_name\": \"BaseDataset\",\n",
      "            \"args\": [],\n",
      "            \"kwargs\": {\n",
      "                \"data\": \",Smiles,pChEMBL Value\\n0,CC1=CC(C)(C)Nc2c...\",\n",
      "                \"structure_col\": \"Smiles\",\n",
      "                \"property_col\": \"pChEMBL Value\",\n",
      "                \"name\": null,\n",
      "                \"feature_cols\": [],\n",
      "                \"date_col\": null,\n",
      "                \"log\": true\n",
      "            }\n",
      "        }\n",
      "    },\n",
      "    {\n",
      "        \"type\": \"CREATE\",\n",
      "        \"REMOTE_ID\": \"da6335bb-4f42-4c95-8ffe-1001875cca96\",\n",
      "        \"parameters\": {\n",
      "            \"BC_class_name\": \"RandomSplit\",\n",
      "            \"args\": [],\n",
      "            \"kwargs\": {\n",
      "                \"log\": true\n",
      "            }\n",
      "        }\n",
      "    },\n",
      "    {\n",
      "        \"type\": \"SYMBOL\",\n",
      "        \"PARENT_REMOTE_ID\": \"da6335bb-4f42-4c95-8ffe-1001875cca96\",\n",
      "        \"SYMBOL_NAME\": \"transform\",\n",
      "        \"REMOTE_ID\": \"ff0cf3d9-e6c5-49ad-9617-2518831ccbce\"\n",
      "    },\n",
      "    {\n",
      "        \"type\": \"CALL\",\n",
      "        \"PARENT_REMOTE_ID\": \"ff0cf3d9-e6c5-49ad-9617-2518831ccbce\",\n",
      "        \"REMOTE_ID\": \"86ca8252-00cb-4c68-9b3f-9c3dc65112aa\",\n",
      "        \"ARGUMENTS\": {\n",
      "            \"args\": [\n",
      "                {\n",
      "                    \"REMOTE_ID\": \"e95a7cde-dbdb-46be-9131-cef881c26e11\"\n",
      "                }\n",
      "            ],\n",
      "            \"kwargs\": {}\n",
      "        }\n",
      "    }\n",
      "]\n",
      "True\n",
      "Sending instructions...\n",
      "[\n",
      "    {\n",
      "        \"type\": \"CREATE\",\n",
      "        \"REMOTE_ID\": \"3ea1dc5b-2e1f-4ad1-8100-ad7b29f1d4a3\",\n",
      "        \"parameters\": {\n",
      "            \"BC_class_name\": \"DescriptastorusDescriptor\",\n",
      "            \"args\": [\n",
      "                \"morgan3counts\"\n",
      "            ],\n",
      "            \"kwargs\": {\n",
      "                \"log\": true,\n",
      "                \"scale\": null\n",
      "            }\n",
      "        }\n",
      "    },\n",
      "    {\n",
      "        \"type\": \"CREATE\",\n",
      "        \"REMOTE_ID\": \"ab6b90ec-5e8b-47aa-adb1-c8dbd3e44496\",\n",
      "        \"parameters\": {\n",
      "            \"BC_class_name\": \"ChemicalSpacePlot\",\n",
      "            \"args\": [\n",
      "                {\n",
      "                    \"REMOTE_ID\": \"86ca8252-00cb-4c68-9b3f-9c3dc65112aa\"\n",
      "                },\n",
      "                {\n",
      "                    \"REMOTE_ID\": \"3ea1dc5b-2e1f-4ad1-8100-ad7b29f1d4a3\"\n",
      "                }\n",
      "            ],\n",
      "            \"kwargs\": {\n",
      "                \"opacity\": 0.4,\n",
      "                \"dim_reduction\": \"tsne\",\n",
      "                \"smiles_col\": null,\n",
      "                \"title\": \"Chemical Space Plot\",\n",
      "                \"log\": true\n",
      "            }\n",
      "        }\n",
      "    },\n",
      "    {\n",
      "        \"type\": \"SYMBOL\",\n",
      "        \"PARENT_REMOTE_ID\": \"ab6b90ec-5e8b-47aa-adb1-c8dbd3e44496\",\n",
      "        \"SYMBOL_NAME\": \"render_ipynb\",\n",
      "        \"REMOTE_ID\": \"033fda8a-97b0-48d2-a913-2e41f9b78aba\"\n",
      "    },\n",
      "    {\n",
      "        \"type\": \"CALL\",\n",
      "        \"PARENT_REMOTE_ID\": \"033fda8a-97b0-48d2-a913-2e41f9b78aba\",\n",
      "        \"REMOTE_ID\": \"58f3363e-60d0-451a-a788-2fd31300cfb5\",\n",
      "        \"ARGUMENTS\": {\n",
      "            \"args\": [],\n",
      "            \"kwargs\": {}\n",
      "        }\n",
      "    }\n",
      "]\n"
     ]
    },
    {
     "data": {
      "text/html": [
       "\n",
       "        <iframe\n",
       "            width=\"800\"\n",
       "            height=\"600\"\n",
       "            src=\"data:text/html,%0A%20%20%20%20%20%20%20%20%3C%21DOCTYPE%20html%3E%0A%20%20%20%20%20%20%20%20%3Chead%3E%0A%20%20%20%20%20%20%20%20%3Cmeta%20charset%3D%22utf-8%22%3E%0A%20%20%20%20%20%20%20%20%3C%2Fhead%3E%0A%0A%20%20%20%20%20%20%20%20%3Chtml%20style%3D%22height%3A%20100%25%3B%22%3E%0A%0A%20%20%20%20%20%20%20%20%3C%21--%20Load%20packages%20--%3E%0A%20%20%20%20%20%20%20%20%3Cscript%20src%20%3D%20%22https%3A%2F%2Fcdn.plot.ly%2Fplotly-2.14.0.min.js%22%3E%3C%2Fscript%3E%3Cscript%20src%20%3D%20%22https%3A%2F%2Funpkg.com%2Folorenrenderer%401.0.0-c%2Fdist%2Foloren-renderer.min.js%22%3E%3C%2Fscript%3E%0A%20%20%20%20%20%20%20%20%3Cbody%20style%3D%22background-color%3A%23FFFFFF%3B%20height%3A%20100%25%3B%22%3E%0A%20%20%20%20%20%20%20%20%3C%21--%20Create%20a%20div%20where%20the%20graph%20will%20take%20place%20--%3E%0A%20%20%20%20%20%20%20%20%3Cdiv%20id%3D%22basevis-entry%22%20data-visdata%3D%22%7B%26quot%3BSMILES%26quot%3B%3A%5B%26quot%3BCCC1%28CC%29OC%28%3DO%29N%28C%29C2%3DCC%3DC%28NC3%3DCC%3DCC%28Cl%29%3DC3Cl%29C%3DC21%26quot%3B%2C%26quot%3BCC%23C%5BC%40%5D1%28O%29CC%5BC%40H%5D2%5BC%40%40H%5D3CCC4%3DCC%28%3DO%29CCC4%3DC3%5BC%40%40H%5D%28C3%3DCC%3DC%28N%28C%29C%29C%3DC3%29C%5BC%40%40%5D21C%26quot%3B%2C%26quot%3BCCCCN1C2%3DCC%3DCC%3DC2C2%3DCC%3DC3NC%28C%29%28C%29C%3DC%28C%29C3%3DC21%26quot%3B%2C%26quot%3BCC1%28C%29OC%28%3DO%29NC2%3DCC%3DC%28C3%3DCC%3DC%28F%29C%28C%23N%29%3DC3%29C%3DC21%26quot%3B%2C%26quot%3BC%3DC1C%3DC%28C%29CC%28C%29%28C%29C1SC1%3DCC%3DC%28%5BN%2B%5D%28%3DO%29%5BO-%5D%29C%3DC1%26quot%3B%2C%26quot%3BCN%28C%29C1%3DCC%3DC%28%5BC%40H%5D2C%5BC%40%5D3%28C%29%5BC%40%40H%5D%28CC%5BC%40%5D3%28O%29CCCO%29%5BC%40%40H%5D3CCC4%3DCC%28%3DO%29CCC4%3DC32%29C%3DC1%26quot%3B%2C%26quot%3BCC%23C%5BC%40%5D1%28O%29CC%5BC%40H%5D2%5BC%40%40H%5D3CCC4%3DCC%28%3DO%29CCC4%3DC3%5BC%40%40H%5D%28C3%3DCC%3DC%28NC%29C%3DC3%29C%5BC%40%40%5D21C%26quot%3B%2C%26quot%3BC%3DC1CCO%5BC%40%5D12CC%5BC%40H%5D1%5BC%40%40H%5D3CCC4%3DCC%28%3DO%29CCC4%3DC3%5BC%40%40H%5D%28C3%3DCC%3DC%28N%28C%29C%29C%3DC3%29OC%5BC%40%40%5D12C%26quot%3B%2C%26quot%3BCC1%28C%29OC%28C%28C%29%28C%29C%29NC2%3DCC%3DC%28C3%3DCC%28F%29%3DCC%28C%23N%29%3DC3%29C%3DC21%26quot%3B%2C%26quot%3BO%3DC%28C1%3DCC%3DC%28%5BN%2B%5D%28%3DO%29%5BO-%5D%29C%3DC1%29N1CCCC%28C2%3DCC%3DC%28Cl%29C%28Cl%29%3DC2%29%3DN1%26quot%3B%2C%26quot%3BC%3DC1C%3DC%28C%29CC%28C%29%28C%29C1CC1%3DCC%3DC%28%5BN%2B%5D%28%3DO%29%5BO-%5D%29C%3DC1%26quot%3B%2C%26quot%3BCC1%3DC%28NS%28C%29%28%3DO%29%3DO%29C%3DCC%3DC1N%28CC1%3DCC%3DCC%3DC1%29CC1%3DCC%3DC%28OC2%3DCC%3DC%28OCC%28%3DO%29O%29C%3DC2%29C%3DC1%26quot%3B%2C%26quot%3BCC%28C%29N1C%28%3DO%29OC%28C%29%28C%29C2%3DCC%28NC3%3DCC%3DC%28Br%29C%3DC3%29%3DCC%3DC21%26quot%3B%2C%26quot%3BCC1%3DCC%28C%29%28C%29NC2%3DCC%3DC3C4%3DCC%3DCC%28Cl%29%3DC4OCC3%3DC12%26quot%3B%2C%26quot%3BCN1N%3DNN%3DC1CN%28CC1%3DCC%3DCC%3DC1Cl%29C1%3DCC%3DC%28C%23N%29C%28Cl%29%3DC1%26quot%3B%2C%26quot%3BC%5BC%40%40H%5D1C%5BC%40H%5D2%5BC%40%40H%5D3CCC4%3DCC%28%3DO%29CCC4%3DC3%5BC%40%40H%5D%28C3%3DCC%3DC%28C4%3DCC%3DCC%3DN4%29C%3DC3%29C%5BC%40%5D2%28C%29%5BC%40H%5D1C%28%3DO%29C1CC1%26quot%3B%2C%26quot%3BCC%23C%5BC%40%5D1%28O%29CC%5BC%40H%5D2%5BC%40%40H%5D3CCC4%3DCC%28%3DO%29CCC4%3DC3%5BC%40%40H%5D%28C3%3DCC%3DC%28N%28C%29CCC%28%3DO%29O%29C%3DC3%29C%5BC%40%40%5D21C%26quot%3B%2C%26quot%3BCC%23C%5BC%40%5D1%28O%29CC%5BC%40H%5D2%5BC%40%40H%5D3CCC4%3DCC%28%3DO%29CCC4%3DC3%5BC%40%40H%5D%28C3%3DCC%3DC%28N%28C%29C%28%3DO%29NCCCC%29C%3DC3%29C%5BC%40%40%5D21C%26quot%3B%2C%26quot%3BO%3D%5BN%2B%5D%28%5BO-%5D%29C1%3DCC%3DCC%28C2%3DCC%3DC3N%3DC%28S%29N%28CC4%3DCC%3DCC%3DC4%29C3%3DC2%29%3DC1%26quot%3B%2C%26quot%3BCC%23C%5BC%40%5D1%28O%29CC%5BC%40H%5D2%5BC%40%40H%5D3CCC4%3DCC%28%3DO%29CCC4%3DC3%5BC%40%40H%5D%28C3%3DCC%3DC%28N%28C%29C%28%3DO%29NCCCCCC%28%3DO%29N%5BC%40%40H%5D%28CC%28C%29C%29C%28%3DO%29OC%28C%29%28C%29C%29C%3DC3%29C%5BC%40%40%5D21C%26quot%3B%2C%26quot%3BCCOC1%3DCC%3DCC2%3DC1C1%3DCC%3DC%28NS%28C%29%28%3DO%29%3DO%29C%3DC1C%28C1%3DCC%3DCC%3DC1%29O2%26quot%3B%2C%26quot%3BCS%28%3DO%29%28%3DO%29NC1%3DCC%3DC2C%28%3DC1%29C%28C1%3DCC%3DCC%3DC1%29OC1%3DCC%3DCC%28OC%28F%29F%29%3DC12%26quot%3B%2C%26quot%3BCC1%3DCC%28C%29%28C%29NC2%3DCC%3DC%28C3%3DC%28C%23N%29SC%3DC3%29C%3DC12%26quot%3B%2C%26quot%3BCC%23C%5BC%40%5D1%28O%29CC%5BC%40H%5D2%5BC%40%40H%5D3CCC4%3DCC%28%3DO%29CCC4%3DC3%5BC%40%40H%5D%28C3%3DCC%3DC%28N%28C%29CCCCCC%29C%3DC3%29C%5BC%40%40%5D21C%26quot%3B%2C%26quot%3BCC%23C%5BC%40%5D1%28O%29CC%5BC%40H%5D2%5BC%40%40H%5D3CCC4%3DCC%28%3DO%29CCC4%3DC3%5BC%40%40H%5D%28C3%3DCC%3DC%28N%28C%29C%29C%3DC3%29C%5BC%40%40%5D21C%26quot%3B%2C%26quot%3BC%5BC%40%40H%5D1C2%3DC%28C%3DCC3%3DC2%5BC%40H%5D%28C2%3DCC%3DC%28Cl%29C%3DC2%29OC2%3DCC%3DCC%3DC23%29NC%28C%29%28C%29%5BC%40H%5D1O%26quot%3B%2C%26quot%3BCC%23C%5BC%40%5D1%28O%29CC%5BC%40H%5D2%5BC%40%40H%5D3CCC4%3DCC%28%3DO%29CCC4%3DC3%5BC%40%40H%5D%28C3%3DCC%3DC%28N%28C%29CCCCCC%3DO%29C%3DC3%29C%5BC%40%40%5D21C%26quot%3B%2C%26quot%3BCC1%28C%29%5BC%40H%5D%28O%29CC%5BC%40%5D2%28C%29%5BC%40%40%5D3%28C%29C4%3DC%28C%5BC%40%40H%5D3CC%5BC%40%40%5D12O%29C1%3DCC%3DCC%3DC1N4%26quot%3B%2C%26quot%3BC%3DC1C%28C%29%3DCCC%28C%29%28C%29%5BC%40%40H%5D1CC1%3DCC%28OC%29%3DC%28Br%29C%3DC1OC%28C%29%3DO%26quot%3B%2C%26quot%3BCC1%28C%29C%28%3DO%29NC2%3DCC%3DC%28C3%3DCC%28F%29%3DCC%28Cl%29%3DC3%29C%3DC21%26quot%3B%2C%26quot%3BCC%28C%29CC%28C1%3DNN%3DNN1C%29N%28CC1%3DCC%3DCC%3DC1Cl%29C1%3DCC%3DC%28C%23N%29C%28Cl%29%3DC1%26quot%3B%2C%26quot%3BC%3DC%28C%29%5BC%40%5D1%28O%29CC%5BC%40H%5D2%5BC%40%40H%5D3CCC4%3DCC%28%3DO%29CCC4%3DC3%5BC%40%40H%5D%28C3%3DCC%3DC%28SC%29C%3DC3%29OC%5BC%40%40%5D21C%26quot%3B%2C%26quot%3BCN%28C%29C1%3DCC%3DC%28%5BC%40H%5D2C%5BC%40%5D3%28C%29%5BC%40%40H%5D%28CC%5BC%40%5D3%28O%29CCCO%29%5BC%40%40H%5D3CCC4%3DCC%28%3DO%29CCC4%3DC32%29C%3DC1%26quot%3B%2C%26quot%3BCC%23C%5BC%40%5D1%28O%29CC%5BC%40H%5D2%5BC%40%40H%5D3CCC4%3DCC%28%3DO%29CCC4%3DC3%5BC%40%40H%5D%28C3%3DCC%3DC%28N%28C%29CCCCCCCC%28%3DO%29OC%29C%3DC3%29C%5BC%40%40%5D21C%26quot%3B%2C%26quot%3BCC1%28C%29OC%28%3DO%29N%28CC2%3DCC%3DCC%3DC2%29C2%3DCC%3DC%28NC3%3DCC%3DC%28Br%29C%3DC3%29C%3DC21%26quot%3B%2C%26quot%3BCCN1N%3DNN%3DC1C%28C%29N%28CC1%3DCC%3DCC%3DC1Cl%29C1%3DCC%3DC%28C%23N%29C%28Cl%29%3DC1%26quot%3B%2C%26quot%3BCC%28C1%3DCN%28C%29N%3DN1%29N%28CC1%3DCC%3DCC%3DC1Cl%29C1%3DCC%3DC%28C%23N%29C%28Cl%29%3DC1%26quot%3B%2C%26quot%3BCC%28C1%3DNN%3DNN1C%28C%29C%29N%28CC1%3DCC%3DCC%3DC1Cl%29C1%3DCC%3DC%28C%23N%29C%28Cl%29%3DC1%26quot%3B%2C%26quot%3BC%3DC1CCCC%28C%29%28C%29C1CC1%3DCC%28OC%29%3DC%28Br%29C%3DC1O%26quot%3B%2C%26quot%3BCN%28C%29C1%3DCC%3DC%28%5BC%40H%5D2OC%5BC%40%5D3%28C%29%5BC%40%40H%5D%28O%29CC%5BC%40H%5D3%5BC%40%40H%5D3CCC4%3DCC%28%3DO%29CCC4%3DC32%29C%3DC1%26quot%3B%2C%26quot%3BCOC1%3DCC%3DC%28C2%3DCC%3DC%28%5BC%40H%5D3C%5BC%40%5D4%28C%29%5BC%40%40H%5D%28C%28%3DO%29C5CC5%29CC%5BC%40H%5D4%5BC%40%40H%5D4CCC5%3DCC%28%3DO%29CCC5%3DC43%29C%3DC2%29C%3DN1%26quot%3B%2C%26quot%3BCOC1%3DCC%3DCC%3DC1C1%3DCC%3DC2NC%28C%29%28C%29C%3DC%28C%28C%29OCCC3%3DCC%3DCC%28Cl%29%3DC3%29C2%3DC1%26quot%3B%2C%26quot%3BC%3DC1C%28C%29%3DCCC%28C%29%28C%29%5BC%40%40H%5D1CC1%3DCC%28OC%29%3DC%28Br%29C%3DC1OC%28C%29%3DO%26quot%3B%2C%26quot%3BCN1C%28%3DO%29OC%28C%29%28C%29C2%3DCC%28NC3%3DCC%3DCC%28Cl%29%3DC3Cl%29%3DCC%3DC21%26quot%3B%2C%26quot%3BCC%28C%29CC%28C1%3DNN%3DNN1C%29N%28CC%28C%29C%29C1%3DCC%3DC%28C%23N%29C%28Cl%29%3DC1%26quot%3B%2C%26quot%3BCC%23C%5BC%40%5D1%28O%29CC%5BC%40H%5D2%5BC%40%40H%5D3CCC4%3DCC%28%3DO%29CCC4%3DC3%5BC%40%40H%5D%28C3%3DCC%3DC%28N%28C%29CCC%28%3DO%29NC4%3DCC%3DC%28C%28N%29%3DO%29C%28O%29%3DC4%29C%3DC3%29C%5BC%40%40%5D21C%26quot%3B%2C%26quot%3BCC1%3DCC%28C%29%28C%29NC2%3DCC%3DC3C4%3DCC%28F%29%3DCC%3DC4O%2FC%28%3DC%5C%5CC%3DO%29C3%3DC12%26quot%3B%2C%26quot%3BCCC1%28CC%29OC%28%3DO%29N%28C%29C2%3DCC%3DC%28NC3%3DCC%3DCC%28Cl%29%3DC3%29C%3DC21%26quot%3B%2C%26quot%3BCC1%3DCC%28C%29%28C%29NC2%3DCC3%3DC%28C%3DC12%29C1%3DCC%3DCC%3DC1O3%26quot%3B%5D%2C%26quot%3BX%26quot%3B%3A%5B56.2674446105957%2C-8.472591400146484%2C-28.167253494262695%2C5.454768180847168%2C-26.189271926879883%2C-75.47806549072266%2C-48.53499984741211%2C45.3946647644043%2C10.365755081176758%2C-57.68584442138672%2C27.733211517333984%2C-68.7399673461914%2C57.09929656982422%2C7.796996116638184%2C31.114349365234375%2C54.55424118041992%2C-13.256793022155762%2C-36.186885833740234%2C145.27218627929688%2C89.20014953613281%2C-13.842976570129395%2C66.55609130859375%2C38.45663070678711%2C-160.73394775390625%2C31.675046920776367%2C-22.426918029785156%2C7.246614456176758%2C24.405838012695312%2C27.42447280883789%2C-8.797666549682617%2C-23.76708221435547%2C-27.698177337646484%2C-21.455482482910156%2C6.827898025512695%2C41.22577667236328%2C-52.7567138671875%2C24.310720443725586%2C-75.8529281616211%2C-41.70838928222656%2C-61.96296310424805%2C52.619564056396484%2C77.1427993774414%2C-7.356432914733887%2C-129.40023803710938%2C-16.421422958374023%2C-44.52622604370117%2C-67.07597351074219%2C46.42532730102539%2C12.501523971557617%5D%2C%26quot%3BY%26quot%3B%3A%5B66.48190307617188%2C31.7418155670166%2C-28.345144271850586%2C-63.412227630615234%2C2.6087443828582764%2C-0.6561899185180664%2C18.994321823120117%2C24.65475082397461%2C-18.83498764038086%2C-41.410133361816406%2C52.06162643432617%2C-70.10987854003906%2C-33.41957473754883%2C66.96400451660156%2C-25.67110824584961%2C114.18450164794922%2C-45.744083404541016%2C-54.709190368652344%2C90.9972915649414%2C31.004270553588867%2C79.94436645507812%2C9.620574951171875%2C-132.24415588378906%2C28.779499053955078%2C80.94046020507812%2C-104.17327117919922%2C16.21883773803711%2C26.442726135253906%2C-75.70919799804688%2C-19.56869888305664%2C57.502281188964844%2C27.19379234313965%2C-144.31272888183594%2C43.368675231933594%2C-49.11052322387695%2C-94.54633331298828%2C-0.022571995854377747%2C22.773786544799805%2C-9.207962989807129%2C-18.226335525512695%2C44.43013381958008%2C-14.785204887390137%2C2.678934097290039%2C-0.4873825013637543%2C-77.15629577636719%2C47.45918655395508%2C47.6120719909668%2C-7.924450874328613%2C-41.817867279052734%5D%2C%26quot%3Btitle%26quot%3B%3A%26quot%3BChemical%20Space%20Plot%26quot%3B%2C%26quot%3Bxaxis_title%26quot%3B%3A%26quot%3BComponent%201%26quot%3B%2C%26quot%3Byaxis_title%26quot%3B%3A%26quot%3BComponent%202%26quot%3B%2C%26quot%3Bhover_size%26quot%3B%3A0.4%2C%26quot%3Bxaxis_type%26quot%3B%3A%26quot%3Blinear%26quot%3B%2C%26quot%3Byaxis_type%26quot%3B%3A%26quot%3Blinear%26quot%3B%2C%26quot%3Bwidth%26quot%3B%3A800%2C%26quot%3Bheight%26quot%3B%3A600%2C%26quot%3Bopacity%26quot%3B%3A0.4%7D%22%20style%3D%22width%3A%20100%25%3B%20height%3A%20100%25%3B%20display%3Ainline-block%3B%22%3E%3C%2Fdiv%3E%0A%20%20%20%20%20%20%20%20%3C%2Fbody%3E%0A%20%20%20%20%20%20%20%20%3C%2Fmeta%3E%0A%20%20%20%20%20%20%20%20%3Cscript%3Evar%20plot%20%3D%20document.getElementById%28%22basevis-entry%22%29%3B%0Avar%20hoverInfo%20%3D%20document.getElementById%28%22basevis-entry2%22%29%3B%0A%0Avar%20data%20%3D%20JSON.parse%28document.getElementById%28%22basevis-entry%22%29.dataset.visdata%29%3B%0A%0Alet%20options%20%3D%20%7B%7D%3B%0Alet%20smilesDrawer%20%3D%20new%20SmilesDrawer.Drawer%28options%29%3B%0A%0Avar%20trace%20%3D%20%7B%0A%20%20x%3A%20data.X%2C%0A%20%20y%3A%20data.Y%2C%0A%20%20text%3A%20data.SMILES%2C%0A%20%20mode%3A%20%22markers%22%2C%0A%20%20type%3A%20%22scatter%22%2C%0A%20%20hoverinfo%3A%20%22none%22%2C%0A%20%20marker%3A%20%7B%7D%2C%0A%7D%3B%0A%0Aif%20%28%22hovertext%22%20in%20data%29%20%7B%0A%20%20trace.hovertext%20%3D%20data.hovertext%3B%0A%20%20trace.hoverinfo%20%3D%20%22text%22%3B%0A%7D%0A%0Aif%20%28%22group%22%20in%20data%29%20%7B%0A%20%20trace.transforms%20%3D%20%5B%7B%20type%3A%20%22groupby%22%2C%20groups%3A%20data.group%20%7D%5D%3B%0A%7D%0A%0Aif%20%28%22hovertemplate%22%20in%20data%29%20%7B%0A%20%20trace.hovertemplate%20%3D%20data.hovertemplate%3B%0A%7D%0A%0Aif%20%28%22color%22%20in%20data%29%20%7B%0A%20%20trace.marker.color%20%3D%20data.color%3B%0A%7D%0A%0Aif%20%28%22size%22%20in%20data%29%20%7B%0A%20%20trace.marker.size%20%3D%20data.size%3B%0A%7D%20else%20%7B%0A%20%20trace.marker.size%20%3D%2012%3B%0A%7D%0A%0Aif%20%28%22outline%22%20in%20data%29%20%7B%0A%20%20trace.marker.line%20%3D%20%7B%0A%20%20%20%20color%3A%20data.outline%2C%0A%20%20%20%20width%3A%204%2C%0A%20%20%7D%3B%0A%7D%0A%0Aif%20%28%22opacity%22%20in%20data%29%20%7B%0A%20%20trace.marker.opacity%20%3D%20data.opacity%3B%0A%7D%0A%0Avar%20plot_data%20%3D%20%5Btrace%5D%3B%0A%0Avar%20layout%20%3D%20%7B%0A%20%20title%3A%20%22Plot%20Title%22%2C%0A%20%20xaxis%3A%20%7B%0A%20%20%20%20title%3A%20%22x%20Axis%22%2C%0A%20%20%7D%2C%0A%20%20yaxis%3A%20%7B%0A%20%20%20%20title%3A%20%22y%20Axis%22%2C%0A%20%20%7D%2C%0A%20%20autosize%3A%20true%2C%0A%7D%3B%0A%0Aif%20%28%22title%22%20in%20data%29%20%7B%0A%20%20layout.title%20%3D%20data.title%3B%0A%7D%0A%0Aif%20%28%22xaxis_title%22%20in%20data%29%20%7B%0A%20%20layout.xaxis.title%20%3D%20data.xaxis_title%3B%0A%7D%0A%0Aif%20%28%22yaxis_title%22%20in%20data%29%20%7B%0A%20%20layout.yaxis.title%20%3D%20data.yaxis_title%3B%0A%7D%0A%0Alayout.xaxis.type%20%3D%20data%5B%22xaxis_type%22%5D%3B%0Alayout.yaxis.type%20%3D%20data%5B%22yaxis_type%22%5D%3B%0A%0Aif%20%28%22ydomain%22%20in%20data%29%7B%0A%20%20layout.yaxis.domain%20%3D%20data.ydomain%3B%0A%7D%0Aif%20%28%22xdomain%22%20in%20data%29%7B%0A%20%20layout.xaxis.domain%20%3D%20data.xdomain%3B%0A%7D%0A%0Aif%20%28%22yrange%22%20in%20data%29%7B%0A%20%20layout.yaxis.range%20%3D%20data.yrange%3B%0A%7D%0Aif%20%28%22xrange%22%20in%20data%29%7B%0A%20%20layout.xaxis.range%20%3D%20data.xrange%3B%0A%7D%0A%0Aif%20%28%22axesratio%22%20in%20data%29%7B%0A%20%20layout.yaxis.scaleanchor%20%3D%20%22x%22%3B%0A%20%20layout.yaxis.scaleratio%20%3D%20data.axesratio%3B%0A%7D%0A%0Aif%20%28%22xdtick%22%20in%20data%29%7B%0A%20%20layout.xaxis.dtick%20%3D%20data.xdtick%3B%0A%7D%0A%0Aif%20%28%22ydtick%22%20in%20data%29%7B%0A%20%20layout.yaxis.dtick%20%3D%20data.ydtick%3B%0A%7D%0A%0Aif%20%28%22color%22%20in%20data%29%20%7B%0A%20%20if%20%28%22colorscale%22%20in%20data%29%20%7B%0A%20%20%20%20trace.colorscale%20%3D%20data.colorscale%3B%0A%20%20%20%20trace.marker.colorscale%20%3D%20data.colorscale%3B%0A%20%20%20%20trace.marker.colorbar%20%3D%20%7B%0A%20%20%20%20%20%20title%3A%20%22%22%2C%0A%20%20%20%20%20%20titleside%3A%20%22top%22%2C%0A%20%20%20%20%7D%3B%0A%20%20%7D%0A%7D%0A%0APlotly.newPlot%28%0A%20%20%22basevis-entry%22%2C%0A%20%20plot_data%2C%0A%20%20layout%2C%0A%20%20%28config%20%3D%20%7B%0A%20%20%20%20displaylogo%3A%20false%2C%0A%20%20%20%20modeBarButtonsToRemove%3A%20%5B%22zoom2d%22%2C%20%22pan2d%22%2C%20%22select2d%22%2C%20%22lasso2d%22%5D%2C%0A%20%20%7D%29%0A%29%3B%0A%0Aif%20%28%22layout_update%22%20in%20data%29%7B%0A%20%20Plotly.update%28%22basevis-entry%22%2C%20%7B%7D%2C%20data.layout_update%29%3B%0A%7D%0A%0Aif%20%28%22trace_update%22%20in%20data%29%7B%0A%20%20Plotly.addTraces%28%22basevis-entry%22%2C%20data.trace_update%29%3B%0A%7D%0A%0Aconst%20hoverCanvas%20%3D%20document.createElement%28%22canvas%22%29%3B%0AhoverCanvas.id%20%3D%20%22hoverCanvas%22%3B%0A%0Aconst%20hoverBackground%20%3D%20document.createElement%28%22canvas%22%29%3B%0AhoverBackground.id%20%3D%20%22hoverBackground%22%3B%0A%0Avar%20hoverSize%20%3D%20parseFloat%28data.hover_size%29%3B%0A%0Aplot.appendChild%28hoverCanvas%29%3B%0Aplot.appendChild%28hoverBackground%29%3B%0A%0Aplot%0A%20%20.on%28%22plotly_hover%22%2C%20function%20%28data%29%20%7B%0A%20%20%20%20var%20xaxis%20%3D%20data.points%5B0%5D.xaxis%2C%0A%20%20%20%20%20%20yaxis%20%3D%20data.points%5B0%5D.yaxis%3B%0A%0A%20%20%20%20data.points.map%28function%20%28d%29%20%7B%0A%20%20%20%20%20%20hoverCanvas.hidden%20%3D%20false%3B%0A%20%20%20%20%20%20hoverBackground.hidden%20%3D%20false%3B%0A%0A%20%20%20%20%20%20ctx%20%3D%20hoverCanvas.getContext%28%222d%22%29%3B%0A%0A%20%20%20%20%20%20SmilesDrawer.parse%28d.text%2C%20function%20%28smiles%29%20%7B%0A%20%20%20%20%20%20%20%20smilesDrawer.draw%28smiles%2C%20%22hoverCanvas%22%2C%20%22light%22%2C%20false%29%3B%0A%20%20%20%20%20%20%7D%29%3B%0A%0A%20%20%20%20%20%20ctx.fillStyle%20%3D%20%22black%22%3B%0A%20%20%20%20%20%20ctx.shadowColor%20%3D%20%22black%22%3B%0A%20%20%20%20%20%20ctx.shadowBlur%20%3D%2020%3B%0A%20%20%20%20%20%20ctx.lineJoin%20%3D%20%22bevel%22%3B%0A%20%20%20%20%20%20ctx.lineWidth%20%3D%2015%3B%0A%20%20%20%20%20%20ctx.strokeRect%280%2C%200%2C%20hoverCanvas.width%2C%20hoverCanvas.height%2C%20%22light%22%29%3B%0A%0A%20%20%20%20%20%20hoverBackground.width%20%3D%20hoverCanvas.width%3B%0A%20%20%20%20%20%20hoverBackground.height%20%3D%20hoverCanvas.height%3B%0A%20%20%20%20%20%20ctx%20%3D%20hoverBackground.getContext%28%222d%22%29%3B%0A%20%20%20%20%20%20ctx.fillStyle%20%3D%20%22white%22%3B%0A%20%20%20%20%20%20ctx.fillRect%280%2C%200%2C%20hoverBackground.width%2C%20hoverBackground.height%29%3B%0A%0A%20%20%20%20%20%20var%20x%20%3D%20%28d.x%20-%20xaxis.range%5B0%5D%29%20%2F%20%28xaxis.range%5B1%5D%20-%20xaxis.range%5B0%5D%29%3B%0A%20%20%20%20%20%20var%20y%20%3D%20%28d.y%20-%20yaxis.range%5B0%5D%29%20%2F%20%28yaxis.range%5B1%5D%20-%20yaxis.range%5B0%5D%29%3B%0A%20%20%20%20%20%20var%20xdir%20%3D%20%28%28x%20%3E%200.5%29%20%3F%20%27right%27%20%3A%20%27left%27%29%3B%0A%20%20%20%20%20%20var%20ydir%20%3D%20%28%28y%20%3E%200.5%29%20%3F%20%27top%27%20%3A%20%27bottom%27%29%3B%0A%20%20%20%20%20%20Plotly.update%28%0A%20%20%20%20%20%20%20%20%22basevis-entry%22%2C%0A%20%20%20%20%20%20%20%20%7B%7D%2C%0A%20%20%20%20%20%20%20%20%7B%0A%20%20%20%20%20%20%20%20%20%20%2F%2F%20margin%3A%20%7B%20t%3A%20100%2C%20b%3A%20100%2C%20l%3A%2050%2C%20r%3A%2050%20%7D%2C%0A%20%20%20%20%20%20%20%20%20%20annotations%3A%20%5B%0A%20%20%20%20%20%20%20%20%20%20%20%20%7B%0A%20%20%20%20%20%20%20%20%20%20%20%20%20%20x%3A%20d.x%2C%0A%20%20%20%20%20%20%20%20%20%20%20%20%20%20y%3A%20d.y%2C%0A%20%20%20%20%20%20%20%20%20%20%20%20%20%20xref%3A%20%22x%22%2C%0A%20%20%20%20%20%20%20%20%20%20%20%20%20%20yref%3A%20%22y%22%2C%0A%20%20%20%20%20%20%20%20%20%20%20%20%20%20text%3A%20%22%22%2C%0A%20%20%20%20%20%20%20%20%20%20%20%20%20%20showarrow%3A%20true%2C%0A%20%20%20%20%20%20%20%20%20%20%20%20%20%20arrowhead%3A%207%2C%0A%20%20%20%20%20%20%20%20%20%20%20%20%20%20ax%3A%200%2C%0A%20%20%20%20%20%20%20%20%20%20%20%20%20%20ay%3A%200%2C%0A%20%20%20%20%20%20%20%20%20%20%20%20%7D%2C%0A%20%20%20%20%20%20%20%20%20%20%5D%2C%0A%20%20%20%20%20%20%20%20%20%20images%3A%20%5B%0A%20%20%20%20%20%20%20%20%20%20%20%20%7B%0A%20%20%20%20%20%20%20%20%20%20%20%20%20%20x%3A%20x%2C%0A%20%20%20%20%20%20%20%20%20%20%20%20%20%20y%3A%20y%2C%0A%20%20%20%20%20%20%20%20%20%20%20%20%20%20sizex%3A%20hoverSize%2C%0A%20%20%20%20%20%20%20%20%20%20%20%20%20%20sizey%3A%20hoverSize%2C%0A%20%20%20%20%20%20%20%20%20%20%20%20%20%20xref%3A%20%22paper%22%2C%0A%20%20%20%20%20%20%20%20%20%20%20%20%20%20yref%3A%20%22paper%22%2C%0A%20%20%20%20%20%20%20%20%20%20%20%20%20%20source%3A%20document.getElementById%28%22hoverBackground%22%29.toDataURL%28%29%2C%0A%20%20%20%20%20%20%20%20%20%20%20%20%20%20xanchor%3A%20xdir%2C%0A%20%20%20%20%20%20%20%20%20%20%20%20%20%20yanchor%3A%20ydir%2C%0A%20%20%20%20%20%20%20%20%20%20%20%20%20%20layer%3A%20%22above%22%2C%0A%20%20%20%20%20%20%20%20%20%20%20%20%7D%2C%0A%20%20%20%20%20%20%20%20%20%20%20%20%7B%0A%20%20%20%20%20%20%20%20%20%20%20%20%20%20x%3A%20x%2C%0A%20%20%20%20%20%20%20%20%20%20%20%20%20%20y%3A%20y%2C%0A%20%20%20%20%20%20%20%20%20%20%20%20%20%20sizex%3A%20hoverSize%2C%0A%20%20%20%20%20%20%20%20%20%20%20%20%20%20sizey%3A%20hoverSize%2C%0A%20%20%20%20%20%20%20%20%20%20%20%20%20%20xref%3A%20%22paper%22%2C%0A%20%20%20%20%20%20%20%20%20%20%20%20%20%20yref%3A%20%22paper%22%2C%0A%20%20%20%20%20%20%20%20%20%20%20%20%20%20source%3A%20document.getElementById%28%22hoverCanvas%22%29.toDataURL%28%29%2C%0A%20%20%20%20%20%20%20%20%20%20%20%20%20%20xanchor%3A%20xdir%2C%0A%20%20%20%20%20%20%20%20%20%20%20%20%20%20yanchor%3A%20ydir%2C%0A%20%20%20%20%20%20%20%20%20%20%20%20%20%20layer%3A%20%22above%22%2C%0A%20%20%20%20%20%20%20%20%20%20%20%20%7D%2C%0A%20%20%20%20%20%20%20%20%20%20%5D%2C%0A%20%20%20%20%20%20%20%20%7D%0A%20%20%20%20%20%20%29%3B%0A%20%20%20%20%20%20hoverCanvas.hidden%20%3D%20true%3B%0A%20%20%20%20%20%20hoverBackground.hidden%20%3D%20true%3B%0A%20%20%20%20%7D%29%3B%0A%20%20%7D%29%0A%20%20.on%28%22plotly_unhover%22%2C%20function%20%28data%29%20%7B%0A%20%20%20%20Plotly.update%28%22basevis-entry%22%2C%20%7B%7D%2C%20%7B%20annotations%3A%20%5B%5D%2C%20images%3A%20%5B%5D%20%7D%29%3B%0A%20%20%7D%29%3B%0A%3C%2Fscript%3E%3Cscript%3E%20window.addEventListener%28%22resize%22%2C%20function%28%29%7Bif%20%28document.getElementById%28%22basevis-entry%22%29%29%20%7BPlotly.Plots.resize%28document.getElementById%28%22basevis-entry%22%29%29%3B%7D%3B%7D%29%20%3C%2Fscript%3E\"\n",
       "            frameborder=\"0\"\n",
       "            allowfullscreen\n",
       "            \n",
       "        ></iframe>\n",
       "        "
      ],
      "text/plain": [
       "<IPython.lib.display.IFrame at 0x7f804466fca0>"
      ]
     },
     "metadata": {},
     "output_type": "display_data"
    }
   ],
   "source": [
    "import olorenchemengine as oce\n",
    "\n",
    "with oce.Remote(debug=True) as sid:\n",
    "    dataset = oce.ExampleDataset()\n",
    "    vis = oce.ChemicalSpacePlot(\n",
    "        dataset, oce.DescriptastorusDescriptor(\"morgan3counts\"), opacity=0.4, dim_reduction=\"tsne\"\n",
    "    )\n",
    "    vis.render_ipynb()"
   ]
  },
  {
   "cell_type": "code",
   "execution_count": null,
   "metadata": {},
   "outputs": [
    {
     "ename": "",
     "evalue": "",
     "output_type": "error",
     "traceback": [
      "\u001b[1;31mRunning cells with 'Python 3.8.13 ('oce-simple')' requires ipykernel package.\n",
      "\u001b[1;31mRun the following command to install 'ipykernel' into the Python environment. \n",
      "\u001b[1;31mCommand: 'conda install -n oce-simple ipykernel --update-deps --force-reinstall'"
     ]
    }
   ],
   "source": [
    "import olorenchemengine as oce\n",
    "\n",
    "with oce.Remote(debug=True) as sid:\n",
    "    dataset = oce.ExampleDataset()\n",
    "    model = oce.BaseBoosting(\n",
    "        [\n",
    "            oce.RandomForestModel(oce.DescriptastorusDescriptor(\"rdkit2dnormalized\"), n_estimators=1000),\n",
    "            oce.RandomForestModel(oce.OlorenCheckpoint(\"default\"), n_estimators=1000),\n",
    "        ]\n",
    "    )\n",
    "    model.fit(*dataset.train_dataset)\n",
    "\n",
    "    vis = oce.ChemicalSpacePlot(dataset, oce.DescriptastorusDescriptor(\"morgan3counts\"), opacity=0.4, dim_reduction=\"tsne\")\n",
    "    vis.render_ipynb()"
   ]
  },
  {
   "cell_type": "code",
   "execution_count": 1,
   "metadata": {},
   "outputs": [
    {
     "ename": "ModuleNotFoundError",
     "evalue": "No module named 'descriptastorus'",
     "output_type": "error",
     "traceback": [
      "\u001b[0;31m---------------------------------------------------------------------------\u001b[0m",
      "\u001b[0;31mModuleNotFoundError\u001b[0m                       Traceback (most recent call last)",
      "Cell \u001b[0;32mIn [1], line 6\u001b[0m\n\u001b[1;32m      1\u001b[0m \u001b[38;5;28;01mimport\u001b[39;00m \u001b[38;5;21;01molorenchemengine\u001b[39;00m \u001b[38;5;28;01mas\u001b[39;00m \u001b[38;5;21;01moce\u001b[39;00m\n\u001b[1;32m      3\u001b[0m dataset \u001b[38;5;241m=\u001b[39m oce\u001b[38;5;241m.\u001b[39mExampleDataset()\n\u001b[1;32m      4\u001b[0m model \u001b[38;5;241m=\u001b[39m oce\u001b[38;5;241m.\u001b[39mBaseBoosting(\n\u001b[1;32m      5\u001b[0m     [\n\u001b[0;32m----> 6\u001b[0m         oce\u001b[38;5;241m.\u001b[39mRandomForestModel(oce\u001b[38;5;241m.\u001b[39mDescriptastorusDescriptor(\u001b[38;5;124m\"\u001b[39m\u001b[38;5;124mrdkit2dnormalized\u001b[39m\u001b[38;5;124m\"\u001b[39m), n_estimators\u001b[38;5;241m=\u001b[39m\u001b[38;5;241m1000\u001b[39m),\n\u001b[1;32m      7\u001b[0m         oce\u001b[38;5;241m.\u001b[39mRandomForestModel(oce\u001b[38;5;241m.\u001b[39mOlorenCheckpoint(\u001b[38;5;124m\"\u001b[39m\u001b[38;5;124mdefault\u001b[39m\u001b[38;5;124m\"\u001b[39m), n_estimators\u001b[38;5;241m=\u001b[39m\u001b[38;5;241m1000\u001b[39m),\n\u001b[1;32m      8\u001b[0m     ]\n\u001b[1;32m      9\u001b[0m )\n\u001b[1;32m     10\u001b[0m model\u001b[38;5;241m.\u001b[39mfit(\u001b[38;5;241m*\u001b[39mdataset\u001b[38;5;241m.\u001b[39mtrain_dataset)\n\u001b[1;32m     12\u001b[0m vis \u001b[38;5;241m=\u001b[39m oce\u001b[38;5;241m.\u001b[39mChemicalSpacePlot(dataset, oce\u001b[38;5;241m.\u001b[39mDescriptastorusDescriptor(\u001b[38;5;124m\"\u001b[39m\u001b[38;5;124mmorgan3counts\u001b[39m\u001b[38;5;124m\"\u001b[39m), opacity\u001b[38;5;241m=\u001b[39m\u001b[38;5;241m0.4\u001b[39m, dim_reduction\u001b[38;5;241m=\u001b[39m\u001b[38;5;124m\"\u001b[39m\u001b[38;5;124mtsne\u001b[39m\u001b[38;5;124m\"\u001b[39m)\n",
      "File \u001b[0;32m~/Documents/Projects/oce_online/oce-online/src/olorenchemengine/internal.py:222\u001b[0m, in \u001b[0;36mlog_arguments.<locals>.wrapper\u001b[0;34m(self, *args, **kwargs)\u001b[0m\n\u001b[1;32m    220\u001b[0m     \u001b[39mself\u001b[39m\u001b[39m.\u001b[39mkwargs \u001b[39m=\u001b[39m {k: v \u001b[39mfor\u001b[39;00m k, v \u001b[39min\u001b[39;00m kwargs\u001b[39m.\u001b[39mitems() \u001b[39mif\u001b[39;00m k \u001b[39mnot\u001b[39;00m \u001b[39min\u001b[39;00m ignored_kwargs}\n\u001b[1;32m    221\u001b[0m \u001b[39mif\u001b[39;00m _runtime\u001b[39m.\u001b[39mis_local:\n\u001b[0;32m--> 222\u001b[0m     \u001b[39mreturn\u001b[39;00m func(\u001b[39mself\u001b[39;49m, \u001b[39m*\u001b[39;49margs, \u001b[39m*\u001b[39;49m\u001b[39m*\u001b[39;49mkwargs)\n\u001b[1;32m    223\u001b[0m \u001b[39mimport\u001b[39;00m \u001b[39muuid\u001b[39;00m\n\u001b[1;32m    225\u001b[0m REMOTE_ID \u001b[39m=\u001b[39m \u001b[39mstr\u001b[39m(uuid\u001b[39m.\u001b[39muuid4())\n",
      "File \u001b[0;32m~/Documents/Projects/oce_online/oce-online/src/olorenchemengine/representations.py:739\u001b[0m, in \u001b[0;36mDescriptastorusDescriptor.__init__\u001b[0;34m(self, name, log, scale, *args, **kwargs)\u001b[0m\n\u001b[1;32m    735\u001b[0m \u001b[39m@log_arguments\u001b[39m\n\u001b[1;32m    736\u001b[0m \u001b[39mdef\u001b[39;00m \u001b[39m__init__\u001b[39m(\u001b[39mself\u001b[39m, name, \u001b[39m*\u001b[39margs, log\u001b[39m=\u001b[39m\u001b[39mTrue\u001b[39;00m, scale\u001b[39m=\u001b[39m\u001b[39mNone\u001b[39;00m, \u001b[39m*\u001b[39m\u001b[39m*\u001b[39mkwargs):\n\u001b[1;32m    737\u001b[0m     \u001b[39mself\u001b[39m\u001b[39m.\u001b[39mname \u001b[39m=\u001b[39m name\n\u001b[0;32m--> 739\u001b[0m     \u001b[39mfrom\u001b[39;00m \u001b[39mdescriptastorus\u001b[39;00m\u001b[39m.\u001b[39;00m\u001b[39mdescriptors\u001b[39;00m\u001b[39m.\u001b[39;00m\u001b[39mDescriptorGenerator\u001b[39;00m \u001b[39mimport\u001b[39;00m MakeGenerator\n\u001b[1;32m    741\u001b[0m     \u001b[39mself\u001b[39m\u001b[39m.\u001b[39mgenerator \u001b[39m=\u001b[39m MakeGenerator((name,))\n\u001b[1;32m    742\u001b[0m     \u001b[39msuper\u001b[39m()\u001b[39m.\u001b[39m\u001b[39m__init__\u001b[39m(log\u001b[39m=\u001b[39m\u001b[39mFalse\u001b[39;00m, scale\u001b[39m=\u001b[39mscale, \u001b[39m*\u001b[39m\u001b[39m*\u001b[39mkwargs)\n",
      "\u001b[0;31mModuleNotFoundError\u001b[0m: No module named 'descriptastorus'"
     ]
    }
   ],
   "source": [
    "import olorenchemengine as oce\n",
    "\n",
    "dataset = oce.ExampleDataset()\n",
    "model = oce.BaseBoosting(\n",
    "    [\n",
    "        oce.RandomForestModel(oce.DescriptastorusDescriptor(\"rdkit2dnormalized\"), n_estimators=1000),\n",
    "        oce.RandomForestModel(oce.OlorenCheckpoint(\"default\"), n_estimators=1000),\n",
    "    ]\n",
    ")\n",
    "model.fit(*dataset.train_dataset)\n",
    "\n",
    "vis = oce.ChemicalSpacePlot(dataset, oce.DescriptastorusDescriptor(\"morgan3counts\"), opacity=0.4, dim_reduction=\"tsne\")\n",
    "vis.render_ipynb()"
   ]
  },
  {
   "cell_type": "code",
   "execution_count": 1,
   "metadata": {},
   "outputs": [
    {
     "name": "stderr",
     "output_type": "stream",
     "text": [
      "/Users/raunakc/anaconda3/envs/oce/lib/python3.8/site-packages/tqdm/auto.py:22: TqdmWarning: IProgress not found. Please update jupyter and ipywidgets. See https://ipywidgets.readthedocs.io/en/stable/user_install.html\n",
      "  from .autonotebook import tqdm as notebook_tqdm\n"
     ]
    },
    {
     "data": {
      "text/html": [
       "\n",
       "        <iframe\n",
       "            width=\"800\"\n",
       "            height=\"600\"\n",
       "            src=\"data:text/html,%0A%20%20%20%20%20%20%20%20%3C%21DOCTYPE%20html%3E%0A%20%20%20%20%20%20%20%20%3Chead%3E%0A%20%20%20%20%20%20%20%20%3Cmeta%20charset%3D%22utf-8%22%3E%0A%20%20%20%20%20%20%20%20%3C%2Fhead%3E%0A%0A%20%20%20%20%20%20%20%20%3Chtml%20style%3D%22height%3A%20100%25%3B%22%3E%0A%0A%20%20%20%20%20%20%20%20%3C%21--%20Load%20packages%20--%3E%0A%20%20%20%20%20%20%20%20%3Cscript%20src%20%3D%20%22https%3A%2F%2Fcdn.plot.ly%2Fplotly-2.14.0.min.js%22%3E%3C%2Fscript%3E%3Cscript%20src%20%3D%20%22https%3A%2F%2Funpkg.com%2Folorenrenderer%401.0.0-c%2Fdist%2Foloren-renderer.min.js%22%3E%3C%2Fscript%3E%0A%20%20%20%20%20%20%20%20%3Cbody%20style%3D%22background-color%3A%23FFFFFF%3B%20height%3A%20100%25%3B%22%3E%0A%20%20%20%20%20%20%20%20%3C%21--%20Create%20a%20div%20where%20the%20graph%20will%20take%20place%20--%3E%0A%20%20%20%20%20%20%20%20%3Cdiv%20id%3D%22basevis-entry%22%20data-visdata%3D%22%7B%26quot%3BSMILES%26quot%3B%3A%5B%26quot%3BCC1%28C%29C%28%3DO%29NC2%3DCC%3DC%28C3%3DCC%28F%29%3DCC%28Cl%29%3DC3%29C%3DC21%26quot%3B%2C%26quot%3BO%3D%5BN%2B%5D%28%5BO-%5D%29C1%3DCC%3DCC%28C2%3DCC%3DC3N%3DC%28S%29N%28CC4%3DCC%3DCC%3DC4%29C3%3DC2%29%3DC1%26quot%3B%2C%26quot%3BCN%28C%29C1%3DCC%3DC%28%5BC%40H%5D2C%5BC%40%5D3%28C%29%5BC%40%40H%5D%28CC%5BC%40%5D3%28O%29CCCO%29%5BC%40%40H%5D3CCC4%3DCC%28%3DO%29CCC4%3DC32%29C%3DC1%26quot%3B%2C%26quot%3BCS%28%3DO%29%28%3DO%29NC1%3DCC%3DC2C%28%3DC1%29C%28C1%3DCC%3DCC%3DC1%29OC1%3DCC%3DCC%28OC%28F%29F%29%3DC12%26quot%3B%2C%26quot%3BCC1%3DC%28NS%28C%29%28%3DO%29%3DO%29C%3DCC%3DC1N%28CC1%3DCC%3DCC%3DC1%29CC1%3DCC%3DC%28OC2%3DCC%3DC%28OCC%28%3DO%29O%29C%3DC2%29C%3DC1%26quot%3B%2C%26quot%3BCCC1%28CC%29OC%28%3DO%29N%28C%29C2%3DCC%3DC%28NC3%3DCC%3DCC%28Cl%29%3DC3Cl%29C%3DC21%26quot%3B%2C%26quot%3BCC%23C%5BC%40%5D1%28O%29CC%5BC%40H%5D2%5BC%40%40H%5D3CCC4%3DCC%28%3DO%29CCC4%3DC3%5BC%40%40H%5D%28C3%3DCC%3DC%28N%28C%29C%28%3DO%29NCCCC%29C%3DC3%29C%5BC%40%40%5D21C%26quot%3B%2C%26quot%3BCC%23C%5BC%40%5D1%28O%29CC%5BC%40H%5D2%5BC%40%40H%5D3CCC4%3DCC%28%3DO%29CCC4%3DC3%5BC%40%40H%5D%28C3%3DCC%3DC%28N%28C%29CCC%28%3DO%29O%29C%3DC3%29C%5BC%40%40%5D21C%26quot%3B%2C%26quot%3BCC1%3DCC%28C%29%28C%29NC2%3DCC%3DC3C4%3DCC%3DCC%28Cl%29%3DC4OCC3%3DC12%26quot%3B%2C%26quot%3BCC1%28C%29OC%28%3DO%29N%28CC2%3DCC%3DCC%3DC2%29C2%3DCC%3DC%28NC3%3DCC%3DC%28Br%29C%3DC3%29C%3DC21%26quot%3B%2C%26quot%3BC%3DC1C%28C%29%3DCCC%28C%29%28C%29%5BC%40%40H%5D1CC1%3DCC%28OC%29%3DC%28Br%29C%3DC1OC%28C%29%3DO%26quot%3B%2C%26quot%3BCC%28C%29CC%28C1%3DNN%3DNN1C%29N%28CC%28C%29C%29C1%3DCC%3DC%28C%23N%29C%28Cl%29%3DC1%26quot%3B%2C%26quot%3BCC1%28C%29OC%28C%28C%29%28C%29C%29NC2%3DCC%3DC%28C3%3DCC%28F%29%3DCC%28C%23N%29%3DC3%29C%3DC21%26quot%3B%2C%26quot%3BC%3DC1CCCC%28C%29%28C%29C1CC1%3DCC%28OC%29%3DC%28Br%29C%3DC1O%26quot%3B%2C%26quot%3BCC%28C%29N1C%28%3DO%29OC%28C%29%28C%29C2%3DCC%28NC3%3DCC%3DC%28Br%29C%3DC3%29%3DCC%3DC21%26quot%3B%2C%26quot%3BC%3DC1CCO%5BC%40%5D12CC%5BC%40H%5D1%5BC%40%40H%5D3CCC4%3DCC%28%3DO%29CCC4%3DC3%5BC%40%40H%5D%28C3%3DCC%3DC%28N%28C%29C%29C%3DC3%29OC%5BC%40%40%5D12C%26quot%3B%2C%26quot%3BCC%28C1%3DNN%3DNN1C%28C%29C%29N%28CC1%3DCC%3DCC%3DC1Cl%29C1%3DCC%3DC%28C%23N%29C%28Cl%29%3DC1%26quot%3B%2C%26quot%3BCN1C%28%3DO%29OC%28C%29%28C%29C2%3DCC%28NC3%3DCC%3DCC%28Cl%29%3DC3Cl%29%3DCC%3DC21%26quot%3B%2C%26quot%3BO%3DC%28C1%3DCC%3DC%28%5BN%2B%5D%28%3DO%29%5BO-%5D%29C%3DC1%29N1CCCC%28C2%3DCC%3DC%28Cl%29C%28Cl%29%3DC2%29%3DN1%26quot%3B%2C%26quot%3BCCN1N%3DNN%3DC1C%28C%29N%28CC1%3DCC%3DCC%3DC1Cl%29C1%3DCC%3DC%28C%23N%29C%28Cl%29%3DC1%26quot%3B%2C%26quot%3BCC%23C%5BC%40%5D1%28O%29CC%5BC%40H%5D2%5BC%40%40H%5D3CCC4%3DCC%28%3DO%29CCC4%3DC3%5BC%40%40H%5D%28C3%3DCC%3DC%28N%28C%29CCC%28%3DO%29NC4%3DCC%3DC%28C%28N%29%3DO%29C%28O%29%3DC4%29C%3DC3%29C%5BC%40%40%5D21C%26quot%3B%2C%26quot%3BCCCCN1C2%3DCC%3DCC%3DC2C2%3DCC%3DC3NC%28C%29%28C%29C%3DC%28C%29C3%3DC21%26quot%3B%2C%26quot%3BCC%23C%5BC%40%5D1%28O%29CC%5BC%40H%5D2%5BC%40%40H%5D3CCC4%3DCC%28%3DO%29CCC4%3DC3%5BC%40%40H%5D%28C3%3DCC%3DC%28NC%29C%3DC3%29C%5BC%40%40%5D21C%26quot%3B%2C%26quot%3BC%3DC1C%28C%29%3DCCC%28C%29%28C%29%5BC%40%40H%5D1CC1%3DCC%28OC%29%3DC%28Br%29C%3DC1OC%28C%29%3DO%26quot%3B%2C%26quot%3BCC1%3DCC%28C%29%28C%29NC2%3DCC%3DC%28C3%3DC%28C%23N%29SC%3DC3%29C%3DC12%26quot%3B%2C%26quot%3BCN1N%3DNN%3DC1CN%28CC1%3DCC%3DCC%3DC1Cl%29C1%3DCC%3DC%28C%23N%29C%28Cl%29%3DC1%26quot%3B%2C%26quot%3BCOC1%3DCC%3DC%28C2%3DCC%3DC%28%5BC%40H%5D3C%5BC%40%5D4%28C%29%5BC%40%40H%5D%28C%28%3DO%29C5CC5%29CC%5BC%40H%5D4%5BC%40%40H%5D4CCC5%3DCC%28%3DO%29CCC5%3DC43%29C%3DC2%29C%3DN1%26quot%3B%2C%26quot%3BC%3DC1C%3DC%28C%29CC%28C%29%28C%29C1SC1%3DCC%3DC%28%5BN%2B%5D%28%3DO%29%5BO-%5D%29C%3DC1%26quot%3B%2C%26quot%3BCOC1%3DCC%3DCC%3DC1C1%3DCC%3DC2NC%28C%29%28C%29C%3DC%28C%28C%29OCCC3%3DCC%3DCC%28Cl%29%3DC3%29C2%3DC1%26quot%3B%2C%26quot%3BCC1%28C%29OC%28%3DO%29NC2%3DCC%3DC%28C3%3DCC%3DC%28F%29C%28C%23N%29%3DC3%29C%3DC21%26quot%3B%2C%26quot%3BCC%23C%5BC%40%5D1%28O%29CC%5BC%40H%5D2%5BC%40%40H%5D3CCC4%3DCC%28%3DO%29CCC4%3DC3%5BC%40%40H%5D%28C3%3DCC%3DC%28N%28C%29CCCCCC%29C%3DC3%29C%5BC%40%40%5D21C%26quot%3B%2C%26quot%3BCC%23C%5BC%40%5D1%28O%29CC%5BC%40H%5D2%5BC%40%40H%5D3CCC4%3DCC%28%3DO%29CCC4%3DC3%5BC%40%40H%5D%28C3%3DCC%3DC%28N%28C%29C%29C%3DC3%29C%5BC%40%40%5D21C%26quot%3B%2C%26quot%3BCCC1%28CC%29OC%28%3DO%29N%28C%29C2%3DCC%3DC%28NC3%3DCC%3DCC%28Cl%29%3DC3%29C%3DC21%26quot%3B%2C%26quot%3BC%3DC1C%3DC%28C%29CC%28C%29%28C%29C1CC1%3DCC%3DC%28%5BN%2B%5D%28%3DO%29%5BO-%5D%29C%3DC1%26quot%3B%2C%26quot%3BCC%23C%5BC%40%5D1%28O%29CC%5BC%40H%5D2%5BC%40%40H%5D3CCC4%3DCC%28%3DO%29CCC4%3DC3%5BC%40%40H%5D%28C3%3DCC%3DC%28N%28C%29CCCCCC%3DO%29C%3DC3%29C%5BC%40%40%5D21C%26quot%3B%2C%26quot%3BCC%28C1%3DCN%28C%29N%3DN1%29N%28CC1%3DCC%3DCC%3DC1Cl%29C1%3DCC%3DC%28C%23N%29C%28Cl%29%3DC1%26quot%3B%2C%26quot%3BCCOC1%3DCC%3DCC2%3DC1C1%3DCC%3DC%28NS%28C%29%28%3DO%29%3DO%29C%3DC1C%28C1%3DCC%3DCC%3DC1%29O2%26quot%3B%2C%26quot%3BCC%28C%29CC%28C1%3DNN%3DNN1C%29N%28CC1%3DCC%3DCC%3DC1Cl%29C1%3DCC%3DC%28C%23N%29C%28Cl%29%3DC1%26quot%3B%2C%26quot%3BCC%23C%5BC%40%5D1%28O%29CC%5BC%40H%5D2%5BC%40%40H%5D3CCC4%3DCC%28%3DO%29CCC4%3DC3%5BC%40%40H%5D%28C3%3DCC%3DC%28N%28C%29CCCCCCCC%28%3DO%29OC%29C%3DC3%29C%5BC%40%40%5D21C%26quot%3B%2C%26quot%3BCC%23C%5BC%40%5D1%28O%29CC%5BC%40H%5D2%5BC%40%40H%5D3CCC4%3DCC%28%3DO%29CCC4%3DC3%5BC%40%40H%5D%28C3%3DCC%3DC%28N%28C%29C%29C%3DC3%29C%5BC%40%40%5D21C%26quot%3B%2C%26quot%3BCN%28C%29C1%3DCC%3DC%28%5BC%40H%5D2OC%5BC%40%5D3%28C%29%5BC%40%40H%5D%28O%29CC%5BC%40H%5D3%5BC%40%40H%5D3CCC4%3DCC%28%3DO%29CCC4%3DC32%29C%3DC1%26quot%3B%2C%26quot%3BCC%23C%5BC%40%5D1%28O%29CC%5BC%40H%5D2%5BC%40%40H%5D3CCC4%3DCC%28%3DO%29CCC4%3DC3%5BC%40%40H%5D%28C3%3DCC%3DC%28N%28C%29C%28%3DO%29NCCCCCC%28%3DO%29N%5BC%40%40H%5D%28CC%28C%29C%29C%28%3DO%29OC%28C%29%28C%29C%29C%3DC3%29C%5BC%40%40%5D21C%26quot%3B%2C%26quot%3BCC1%3DCC%28C%29%28C%29NC2%3DCC%3DC3C4%3DCC%28F%29%3DCC%3DC4O%2FC%28%3DC%5C%5CC%3DO%29C3%3DC12%26quot%3B%2C%26quot%3BCN%28C%29C1%3DCC%3DC%28%5BC%40H%5D2C%5BC%40%5D3%28C%29%5BC%40%40H%5D%28CC%5BC%40%5D3%28O%29CCCO%29%5BC%40%40H%5D3CCC4%3DCC%28%3DO%29CCC4%3DC32%29C%3DC1%26quot%3B%2C%26quot%3BC%5BC%40%40H%5D1C%5BC%40H%5D2%5BC%40%40H%5D3CCC4%3DCC%28%3DO%29CCC4%3DC3%5BC%40%40H%5D%28C3%3DCC%3DC%28C4%3DCC%3DCC%3DN4%29C%3DC3%29C%5BC%40%5D2%28C%29%5BC%40H%5D1C%28%3DO%29C1CC1%26quot%3B%2C%26quot%3BC%3DC%28C%29%5BC%40%5D1%28O%29CC%5BC%40H%5D2%5BC%40%40H%5D3CCC4%3DCC%28%3DO%29CCC4%3DC3%5BC%40%40H%5D%28C3%3DCC%3DC%28SC%29C%3DC3%29OC%5BC%40%40%5D21C%26quot%3B%2C%26quot%3BCC1%28C%29%5BC%40H%5D%28O%29CC%5BC%40%5D2%28C%29%5BC%40%40%5D3%28C%29C4%3DC%28C%5BC%40%40H%5D3CC%5BC%40%40%5D12O%29C1%3DCC%3DCC%3DC1N4%26quot%3B%2C%26quot%3BC%5BC%40%40H%5D1C2%3DC%28C%3DCC3%3DC2%5BC%40H%5D%28C2%3DCC%3DC%28Cl%29C%3DC2%29OC2%3DCC%3DCC%3DC23%29NC%28C%29%28C%29%5BC%40H%5D1O%26quot%3B%2C%26quot%3BCC1%3DCC%28C%29%28C%29NC2%3DCC3%3DC%28C%3DC12%29C1%3DCC%3DCC%3DC1O3%26quot%3B%5D%2C%26quot%3BX%26quot%3B%3A%5B-29.957927703857422%2C6.198856830596924%2C-37.31483840942383%2C64.51471710205078%2C4.552247524261475%2C-27.228530883789062%2C-8.757152557373047%2C-52.791229248046875%2C24.478986740112305%2C21.071800231933594%2C34.17863464355469%2C-7.923974990844727%2C-38.852073669433594%2C-12.027836799621582%2C0.9360889196395874%2C-5.106449604034424%2C-37.90040588378906%2C-44.56545639038086%2C-16.223583221435547%2C45.6570930480957%2C38.34762191772461%2C27.34950828552246%2C3.0031521320343018%2C-8.957371711730957%2C-15.507549285888672%2C18.998334884643555%2C-43.580806732177734%2C0.04133401811122894%2C44.155517578125%2C8.244016647338867%2C-26.311702728271484%2C48.16347122192383%2C-23.443635940551758%2C-91.06045532226562%2C-14.615519523620605%2C18.611757278442383%2C6.1791672706604%2C-26.996328353881836%2C27.843488693237305%2C-24.87844467163086%2C-11.099364280700684%2C57.838340759277344%2C0.7819535732269287%2C17.636611938476562%2C9.108757019042969%2C32.13454818725586%2C34.39918899536133%2C-56.376834869384766%2C13.017905235290527%5D%2C%26quot%3BY%26quot%3B%3A%5B23.935205459594727%2C74.8852767944336%2C-2.5259432792663574%2C-32.25645446777344%2C59.165382385253906%2C-14.289361000061035%2C-7.616016864776611%2C-3.1549599170684814%2C-31.00581932067871%2C-63.17389678955078%2C-17.032512664794922%2C-73.07460021972656%2C37.14643096923828%2C-42.964107513427734%2C14.458453178405762%2C-29.19116973876953%2C-44.29810333251953%2C15.762182235717773%2C17.44976806640625%2C-28.078075408935547%2C15.884873390197754%2C51.671207427978516%2C-14.256597518920898%2C45.61199951171875%2C32.147579193115234%2C4.476101875305176%2C-18.884798049926758%2C27.581472396850586%2C41.10841369628906%2C39.90812683105469%2C53.45748519897461%2C-1.4389584064483643%2C-55.745487213134766%2C-17.796096801757812%2C-19.312646865844727%2C-12.94047737121582%2C0.666070282459259%2C-32.82574462890625%2C30.341001510620117%2C3.5846047401428223%2C4.4234514236450195%2C18.444416046142578%2C-54.1995735168457%2C19.021129608154297%2C-27.481189727783203%2C-0.8100577592849731%2C-45.91238021850586%2C-32.99208450317383%2C-43.705833435058594%5D%2C%26quot%3Btitle%26quot%3B%3A%26quot%3BChemical%20Space%20Plot%26quot%3B%2C%26quot%3Bxaxis_title%26quot%3B%3A%26quot%3BComponent%201%26quot%3B%2C%26quot%3Byaxis_title%26quot%3B%3A%26quot%3BComponent%202%26quot%3B%2C%26quot%3Bhover_size%26quot%3B%3A0.4%2C%26quot%3Bxaxis_type%26quot%3B%3A%26quot%3Blinear%26quot%3B%2C%26quot%3Byaxis_type%26quot%3B%3A%26quot%3Blinear%26quot%3B%2C%26quot%3Bwidth%26quot%3B%3A800%2C%26quot%3Bheight%26quot%3B%3A600%2C%26quot%3Bopacity%26quot%3B%3A0.4%7D%22%20style%3D%22width%3A%20100%25%3B%20height%3A%20100%25%3B%20display%3Ainline-block%3B%22%3E%3C%2Fdiv%3E%0A%20%20%20%20%20%20%20%20%3C%2Fbody%3E%0A%20%20%20%20%20%20%20%20%3C%2Fmeta%3E%0A%20%20%20%20%20%20%20%20%3Cscript%3Evar%20plot%20%3D%20document.getElementById%28%22basevis-entry%22%29%3B%0Avar%20hoverInfo%20%3D%20document.getElementById%28%22basevis-entry2%22%29%3B%0A%0Avar%20data%20%3D%20JSON.parse%28document.getElementById%28%22basevis-entry%22%29.dataset.visdata%29%3B%0A%0Alet%20options%20%3D%20%7B%7D%3B%0Alet%20smilesDrawer%20%3D%20new%20SmilesDrawer.Drawer%28options%29%3B%0A%0Avar%20trace%20%3D%20%7B%0A%20%20x%3A%20data.X%2C%0A%20%20y%3A%20data.Y%2C%0A%20%20text%3A%20data.SMILES%2C%0A%20%20mode%3A%20%22markers%22%2C%0A%20%20type%3A%20%22scatter%22%2C%0A%20%20hoverinfo%3A%20%22none%22%2C%0A%20%20marker%3A%20%7B%7D%2C%0A%7D%3B%0A%0Aif%20%28%22hovertext%22%20in%20data%29%20%7B%0A%20%20trace.hovertext%20%3D%20data.hovertext%3B%0A%20%20trace.hoverinfo%20%3D%20%22text%22%3B%0A%7D%0A%0Aif%20%28%22group%22%20in%20data%29%20%7B%0A%20%20trace.transforms%20%3D%20%5B%7B%20type%3A%20%22groupby%22%2C%20groups%3A%20data.group%20%7D%5D%3B%0A%7D%0A%0Aif%20%28%22hovertemplate%22%20in%20data%29%20%7B%0A%20%20trace.hovertemplate%20%3D%20data.hovertemplate%3B%0A%7D%0A%0Aif%20%28%22color%22%20in%20data%29%20%7B%0A%20%20trace.marker.color%20%3D%20data.color%3B%0A%7D%0A%0Aif%20%28%22size%22%20in%20data%29%20%7B%0A%20%20trace.marker.size%20%3D%20data.size%3B%0A%7D%20else%20%7B%0A%20%20trace.marker.size%20%3D%2012%3B%0A%7D%0A%0Aif%20%28%22outline%22%20in%20data%29%20%7B%0A%20%20trace.marker.line%20%3D%20%7B%0A%20%20%20%20color%3A%20data.outline%2C%0A%20%20%20%20width%3A%204%2C%0A%20%20%7D%3B%0A%7D%0A%0Aif%20%28%22opacity%22%20in%20data%29%20%7B%0A%20%20trace.marker.opacity%20%3D%20data.opacity%3B%0A%7D%0A%0Avar%20plot_data%20%3D%20%5Btrace%5D%3B%0A%0Avar%20layout%20%3D%20%7B%0A%20%20title%3A%20%22Plot%20Title%22%2C%0A%20%20xaxis%3A%20%7B%0A%20%20%20%20title%3A%20%22x%20Axis%22%2C%0A%20%20%7D%2C%0A%20%20yaxis%3A%20%7B%0A%20%20%20%20title%3A%20%22y%20Axis%22%2C%0A%20%20%7D%2C%0A%20%20autosize%3A%20true%2C%0A%7D%3B%0A%0Aif%20%28%22title%22%20in%20data%29%20%7B%0A%20%20layout.title%20%3D%20data.title%3B%0A%7D%0A%0Aif%20%28%22xaxis_title%22%20in%20data%29%20%7B%0A%20%20layout.xaxis.title%20%3D%20data.xaxis_title%3B%0A%7D%0A%0Aif%20%28%22yaxis_title%22%20in%20data%29%20%7B%0A%20%20layout.yaxis.title%20%3D%20data.yaxis_title%3B%0A%7D%0A%0Alayout.xaxis.type%20%3D%20data%5B%22xaxis_type%22%5D%3B%0Alayout.yaxis.type%20%3D%20data%5B%22yaxis_type%22%5D%3B%0A%0Aif%20%28%22ydomain%22%20in%20data%29%7B%0A%20%20layout.yaxis.domain%20%3D%20data.ydomain%3B%0A%7D%0Aif%20%28%22xdomain%22%20in%20data%29%7B%0A%20%20layout.xaxis.domain%20%3D%20data.xdomain%3B%0A%7D%0A%0Aif%20%28%22yrange%22%20in%20data%29%7B%0A%20%20layout.yaxis.range%20%3D%20data.yrange%3B%0A%7D%0Aif%20%28%22xrange%22%20in%20data%29%7B%0A%20%20layout.xaxis.range%20%3D%20data.xrange%3B%0A%7D%0A%0Aif%20%28%22axesratio%22%20in%20data%29%7B%0A%20%20layout.yaxis.scaleanchor%20%3D%20%22x%22%3B%0A%20%20layout.yaxis.scaleratio%20%3D%20data.axesratio%3B%0A%7D%0A%0Aif%20%28%22xdtick%22%20in%20data%29%7B%0A%20%20layout.xaxis.dtick%20%3D%20data.xdtick%3B%0A%7D%0A%0Aif%20%28%22ydtick%22%20in%20data%29%7B%0A%20%20layout.yaxis.dtick%20%3D%20data.ydtick%3B%0A%7D%0A%0Aif%20%28%22color%22%20in%20data%29%20%7B%0A%20%20if%20%28%22colorscale%22%20in%20data%29%20%7B%0A%20%20%20%20trace.colorscale%20%3D%20data.colorscale%3B%0A%20%20%20%20trace.marker.colorscale%20%3D%20data.colorscale%3B%0A%20%20%20%20trace.marker.colorbar%20%3D%20%7B%0A%20%20%20%20%20%20title%3A%20%22%22%2C%0A%20%20%20%20%20%20titleside%3A%20%22top%22%2C%0A%20%20%20%20%7D%3B%0A%20%20%7D%0A%7D%0A%0APlotly.newPlot%28%0A%20%20%22basevis-entry%22%2C%0A%20%20plot_data%2C%0A%20%20layout%2C%0A%20%20%28config%20%3D%20%7B%0A%20%20%20%20displaylogo%3A%20false%2C%0A%20%20%20%20modeBarButtonsToRemove%3A%20%5B%22zoom2d%22%2C%20%22pan2d%22%2C%20%22select2d%22%2C%20%22lasso2d%22%5D%2C%0A%20%20%7D%29%0A%29%3B%0A%0Aif%20%28%22layout_update%22%20in%20data%29%7B%0A%20%20Plotly.update%28%22basevis-entry%22%2C%20%7B%7D%2C%20data.layout_update%29%3B%0A%7D%0A%0Aif%20%28%22trace_update%22%20in%20data%29%7B%0A%20%20Plotly.addTraces%28%22basevis-entry%22%2C%20data.trace_update%29%3B%0A%7D%0A%0Aconst%20hoverCanvas%20%3D%20document.createElement%28%22canvas%22%29%3B%0AhoverCanvas.id%20%3D%20%22hoverCanvas%22%3B%0A%0Aconst%20hoverBackground%20%3D%20document.createElement%28%22canvas%22%29%3B%0AhoverBackground.id%20%3D%20%22hoverBackground%22%3B%0A%0Avar%20hoverSize%20%3D%20parseFloat%28data.hover_size%29%3B%0A%0Aplot.appendChild%28hoverCanvas%29%3B%0Aplot.appendChild%28hoverBackground%29%3B%0A%0Aplot%0A%20%20.on%28%22plotly_hover%22%2C%20function%20%28data%29%20%7B%0A%20%20%20%20var%20xaxis%20%3D%20data.points%5B0%5D.xaxis%2C%0A%20%20%20%20%20%20yaxis%20%3D%20data.points%5B0%5D.yaxis%3B%0A%0A%20%20%20%20data.points.map%28function%20%28d%29%20%7B%0A%20%20%20%20%20%20hoverCanvas.hidden%20%3D%20false%3B%0A%20%20%20%20%20%20hoverBackground.hidden%20%3D%20false%3B%0A%0A%20%20%20%20%20%20ctx%20%3D%20hoverCanvas.getContext%28%222d%22%29%3B%0A%0A%20%20%20%20%20%20SmilesDrawer.parse%28d.text%2C%20function%20%28smiles%29%20%7B%0A%20%20%20%20%20%20%20%20smilesDrawer.draw%28smiles%2C%20%22hoverCanvas%22%2C%20%22light%22%2C%20false%29%3B%0A%20%20%20%20%20%20%7D%29%3B%0A%0A%20%20%20%20%20%20ctx.fillStyle%20%3D%20%22black%22%3B%0A%20%20%20%20%20%20ctx.shadowColor%20%3D%20%22black%22%3B%0A%20%20%20%20%20%20ctx.shadowBlur%20%3D%2020%3B%0A%20%20%20%20%20%20ctx.lineJoin%20%3D%20%22bevel%22%3B%0A%20%20%20%20%20%20ctx.lineWidth%20%3D%2015%3B%0A%20%20%20%20%20%20ctx.strokeRect%280%2C%200%2C%20hoverCanvas.width%2C%20hoverCanvas.height%2C%20%22light%22%29%3B%0A%0A%20%20%20%20%20%20hoverBackground.width%20%3D%20hoverCanvas.width%3B%0A%20%20%20%20%20%20hoverBackground.height%20%3D%20hoverCanvas.height%3B%0A%20%20%20%20%20%20ctx%20%3D%20hoverBackground.getContext%28%222d%22%29%3B%0A%20%20%20%20%20%20ctx.fillStyle%20%3D%20%22white%22%3B%0A%20%20%20%20%20%20ctx.fillRect%280%2C%200%2C%20hoverBackground.width%2C%20hoverBackground.height%29%3B%0A%0A%20%20%20%20%20%20var%20x%20%3D%20%28d.x%20-%20xaxis.range%5B0%5D%29%20%2F%20%28xaxis.range%5B1%5D%20-%20xaxis.range%5B0%5D%29%3B%0A%20%20%20%20%20%20var%20y%20%3D%20%28d.y%20-%20yaxis.range%5B0%5D%29%20%2F%20%28yaxis.range%5B1%5D%20-%20yaxis.range%5B0%5D%29%3B%0A%20%20%20%20%20%20var%20xdir%20%3D%20%28%28x%20%3E%200.5%29%20%3F%20%27right%27%20%3A%20%27left%27%29%3B%0A%20%20%20%20%20%20var%20ydir%20%3D%20%28%28y%20%3E%200.5%29%20%3F%20%27top%27%20%3A%20%27bottom%27%29%3B%0A%20%20%20%20%20%20Plotly.update%28%0A%20%20%20%20%20%20%20%20%22basevis-entry%22%2C%0A%20%20%20%20%20%20%20%20%7B%7D%2C%0A%20%20%20%20%20%20%20%20%7B%0A%20%20%20%20%20%20%20%20%20%20%2F%2F%20margin%3A%20%7B%20t%3A%20100%2C%20b%3A%20100%2C%20l%3A%2050%2C%20r%3A%2050%20%7D%2C%0A%20%20%20%20%20%20%20%20%20%20annotations%3A%20%5B%0A%20%20%20%20%20%20%20%20%20%20%20%20%7B%0A%20%20%20%20%20%20%20%20%20%20%20%20%20%20x%3A%20d.x%2C%0A%20%20%20%20%20%20%20%20%20%20%20%20%20%20y%3A%20d.y%2C%0A%20%20%20%20%20%20%20%20%20%20%20%20%20%20xref%3A%20%22x%22%2C%0A%20%20%20%20%20%20%20%20%20%20%20%20%20%20yref%3A%20%22y%22%2C%0A%20%20%20%20%20%20%20%20%20%20%20%20%20%20text%3A%20%22%22%2C%0A%20%20%20%20%20%20%20%20%20%20%20%20%20%20showarrow%3A%20true%2C%0A%20%20%20%20%20%20%20%20%20%20%20%20%20%20arrowhead%3A%207%2C%0A%20%20%20%20%20%20%20%20%20%20%20%20%20%20ax%3A%200%2C%0A%20%20%20%20%20%20%20%20%20%20%20%20%20%20ay%3A%200%2C%0A%20%20%20%20%20%20%20%20%20%20%20%20%7D%2C%0A%20%20%20%20%20%20%20%20%20%20%5D%2C%0A%20%20%20%20%20%20%20%20%20%20images%3A%20%5B%0A%20%20%20%20%20%20%20%20%20%20%20%20%7B%0A%20%20%20%20%20%20%20%20%20%20%20%20%20%20x%3A%20x%2C%0A%20%20%20%20%20%20%20%20%20%20%20%20%20%20y%3A%20y%2C%0A%20%20%20%20%20%20%20%20%20%20%20%20%20%20sizex%3A%20hoverSize%2C%0A%20%20%20%20%20%20%20%20%20%20%20%20%20%20sizey%3A%20hoverSize%2C%0A%20%20%20%20%20%20%20%20%20%20%20%20%20%20xref%3A%20%22paper%22%2C%0A%20%20%20%20%20%20%20%20%20%20%20%20%20%20yref%3A%20%22paper%22%2C%0A%20%20%20%20%20%20%20%20%20%20%20%20%20%20source%3A%20document.getElementById%28%22hoverBackground%22%29.toDataURL%28%29%2C%0A%20%20%20%20%20%20%20%20%20%20%20%20%20%20xanchor%3A%20xdir%2C%0A%20%20%20%20%20%20%20%20%20%20%20%20%20%20yanchor%3A%20ydir%2C%0A%20%20%20%20%20%20%20%20%20%20%20%20%20%20layer%3A%20%22above%22%2C%0A%20%20%20%20%20%20%20%20%20%20%20%20%7D%2C%0A%20%20%20%20%20%20%20%20%20%20%20%20%7B%0A%20%20%20%20%20%20%20%20%20%20%20%20%20%20x%3A%20x%2C%0A%20%20%20%20%20%20%20%20%20%20%20%20%20%20y%3A%20y%2C%0A%20%20%20%20%20%20%20%20%20%20%20%20%20%20sizex%3A%20hoverSize%2C%0A%20%20%20%20%20%20%20%20%20%20%20%20%20%20sizey%3A%20hoverSize%2C%0A%20%20%20%20%20%20%20%20%20%20%20%20%20%20xref%3A%20%22paper%22%2C%0A%20%20%20%20%20%20%20%20%20%20%20%20%20%20yref%3A%20%22paper%22%2C%0A%20%20%20%20%20%20%20%20%20%20%20%20%20%20source%3A%20document.getElementById%28%22hoverCanvas%22%29.toDataURL%28%29%2C%0A%20%20%20%20%20%20%20%20%20%20%20%20%20%20xanchor%3A%20xdir%2C%0A%20%20%20%20%20%20%20%20%20%20%20%20%20%20yanchor%3A%20ydir%2C%0A%20%20%20%20%20%20%20%20%20%20%20%20%20%20layer%3A%20%22above%22%2C%0A%20%20%20%20%20%20%20%20%20%20%20%20%7D%2C%0A%20%20%20%20%20%20%20%20%20%20%5D%2C%0A%20%20%20%20%20%20%20%20%7D%0A%20%20%20%20%20%20%29%3B%0A%20%20%20%20%20%20hoverCanvas.hidden%20%3D%20true%3B%0A%20%20%20%20%20%20hoverBackground.hidden%20%3D%20true%3B%0A%20%20%20%20%7D%29%3B%0A%20%20%7D%29%0A%20%20.on%28%22plotly_unhover%22%2C%20function%20%28data%29%20%7B%0A%20%20%20%20Plotly.update%28%22basevis-entry%22%2C%20%7B%7D%2C%20%7B%20annotations%3A%20%5B%5D%2C%20images%3A%20%5B%5D%20%7D%29%3B%0A%20%20%7D%29%3B%0A%3C%2Fscript%3E%3Cscript%3E%20window.addEventListener%28%22resize%22%2C%20function%28%29%7Bif%20%28document.getElementById%28%22basevis-entry%22%29%29%20%7BPlotly.Plots.resize%28document.getElementById%28%22basevis-entry%22%29%29%3B%7D%3B%7D%29%20%3C%2Fscript%3E\"\n",
       "            frameborder=\"0\"\n",
       "            allowfullscreen\n",
       "            \n",
       "        ></iframe>\n",
       "        "
      ],
      "text/plain": [
       "<IPython.lib.display.IFrame at 0x7fab814e6c70>"
      ]
     },
     "metadata": {},
     "output_type": "display_data"
    },
    {
     "name": "stdout",
     "output_type": "stream",
     "text": [
      "data:text/html,%0A%20%20%20%20%20%20%20%20%3C%21DOCTYPE%20html%3E%0A%20%20%20%20%20%20%20%20%3Chead%3E%0A%20%20%20%20%20%20%20%20%3Cmeta%20charset%3D%22utf-8%22%3E%0A%20%20%20%20%20%20%20%20%3C%2Fhead%3E%0A%0A%20%20%20%20%20%20%20%20%3Chtml%20style%3D%22height%3A%20100%25%3B%22%3E%0A%0A%20%20%20%20%20%20%20%20%3C%21--%20Load%20packages%20--%3E%0A%20%20%20%20%20%20%20%20%3Cscript%20src%20%3D%20%22https%3A%2F%2Fcdn.plot.ly%2Fplotly-2.14.0.min.js%22%3E%3C%2Fscript%3E%3Cscript%20src%20%3D%20%22https%3A%2F%2Funpkg.com%2Folorenrenderer%401.0.0-c%2Fdist%2Foloren-renderer.min.js%22%3E%3C%2Fscript%3E%0A%20%20%20%20%20%20%20%20%3Cbody%20style%3D%22background-color%3A%23FFFFFF%3B%20height%3A%20100%25%3B%22%3E%0A%20%20%20%20%20%20%20%20%3C%21--%20Create%20a%20div%20where%20the%20graph%20will%20take%20place%20--%3E%0A%20%20%20%20%20%20%20%20%3Cdiv%20id%3D%22basevis-entry%22%20data-visdata%3D%22%7B%26quot%3BSMILES%26quot%3B%3A%5B%26quot%3BCC1%28C%29C%28%3DO%29NC2%3DCC%3DC%28C3%3DCC%28F%29%3DCC%28Cl%29%3DC3%29C%3DC21%26quot%3B%2C%26quot%3BO%3D%5BN%2B%5D%28%5BO-%5D%29C1%3DCC%3DCC%28C2%3DCC%3DC3N%3DC%28S%29N%28CC4%3DCC%3DCC%3DC4%29C3%3DC2%29%3DC1%26quot%3B%2C%26quot%3BCN%28C%29C1%3DCC%3DC%28%5BC%40H%5D2C%5BC%40%5D3%28C%29%5BC%40%40H%5D%28CC%5BC%40%5D3%28O%29CCCO%29%5BC%40%40H%5D3CCC4%3DCC%28%3DO%29CCC4%3DC32%29C%3DC1%26quot%3B%2C%26quot%3BCS%28%3DO%29%28%3DO%29NC1%3DCC%3DC2C%28%3DC1%29C%28C1%3DCC%3DCC%3DC1%29OC1%3DCC%3DCC%28OC%28F%29F%29%3DC12%26quot%3B%2C%26quot%3BCC1%3DC%28NS%28C%29%28%3DO%29%3DO%29C%3DCC%3DC1N%28CC1%3DCC%3DCC%3DC1%29CC1%3DCC%3DC%28OC2%3DCC%3DC%28OCC%28%3DO%29O%29C%3DC2%29C%3DC1%26quot%3B%2C%26quot%3BCCC1%28CC%29OC%28%3DO%29N%28C%29C2%3DCC%3DC%28NC3%3DCC%3DCC%28Cl%29%3DC3Cl%29C%3DC21%26quot%3B%2C%26quot%3BCC%23C%5BC%40%5D1%28O%29CC%5BC%40H%5D2%5BC%40%40H%5D3CCC4%3DCC%28%3DO%29CCC4%3DC3%5BC%40%40H%5D%28C3%3DCC%3DC%28N%28C%29C%28%3DO%29NCCCC%29C%3DC3%29C%5BC%40%40%5D21C%26quot%3B%2C%26quot%3BCC%23C%5BC%40%5D1%28O%29CC%5BC%40H%5D2%5BC%40%40H%5D3CCC4%3DCC%28%3DO%29CCC4%3DC3%5BC%40%40H%5D%28C3%3DCC%3DC%28N%28C%29CCC%28%3DO%29O%29C%3DC3%29C%5BC%40%40%5D21C%26quot%3B%2C%26quot%3BCC1%3DCC%28C%29%28C%29NC2%3DCC%3DC3C4%3DCC%3DCC%28Cl%29%3DC4OCC3%3DC12%26quot%3B%2C%26quot%3BCC1%28C%29OC%28%3DO%29N%28CC2%3DCC%3DCC%3DC2%29C2%3DCC%3DC%28NC3%3DCC%3DC%28Br%29C%3DC3%29C%3DC21%26quot%3B%2C%26quot%3BC%3DC1C%28C%29%3DCCC%28C%29%28C%29%5BC%40%40H%5D1CC1%3DCC%28OC%29%3DC%28Br%29C%3DC1OC%28C%29%3DO%26quot%3B%2C%26quot%3BCC%28C%29CC%28C1%3DNN%3DNN1C%29N%28CC%28C%29C%29C1%3DCC%3DC%28C%23N%29C%28Cl%29%3DC1%26quot%3B%2C%26quot%3BCC1%28C%29OC%28C%28C%29%28C%29C%29NC2%3DCC%3DC%28C3%3DCC%28F%29%3DCC%28C%23N%29%3DC3%29C%3DC21%26quot%3B%2C%26quot%3BC%3DC1CCCC%28C%29%28C%29C1CC1%3DCC%28OC%29%3DC%28Br%29C%3DC1O%26quot%3B%2C%26quot%3BCC%28C%29N1C%28%3DO%29OC%28C%29%28C%29C2%3DCC%28NC3%3DCC%3DC%28Br%29C%3DC3%29%3DCC%3DC21%26quot%3B%2C%26quot%3BC%3DC1CCO%5BC%40%5D12CC%5BC%40H%5D1%5BC%40%40H%5D3CCC4%3DCC%28%3DO%29CCC4%3DC3%5BC%40%40H%5D%28C3%3DCC%3DC%28N%28C%29C%29C%3DC3%29OC%5BC%40%40%5D12C%26quot%3B%2C%26quot%3BCC%28C1%3DNN%3DNN1C%28C%29C%29N%28CC1%3DCC%3DCC%3DC1Cl%29C1%3DCC%3DC%28C%23N%29C%28Cl%29%3DC1%26quot%3B%2C%26quot%3BCN1C%28%3DO%29OC%28C%29%28C%29C2%3DCC%28NC3%3DCC%3DCC%28Cl%29%3DC3Cl%29%3DCC%3DC21%26quot%3B%2C%26quot%3BO%3DC%28C1%3DCC%3DC%28%5BN%2B%5D%28%3DO%29%5BO-%5D%29C%3DC1%29N1CCCC%28C2%3DCC%3DC%28Cl%29C%28Cl%29%3DC2%29%3DN1%26quot%3B%2C%26quot%3BCCN1N%3DNN%3DC1C%28C%29N%28CC1%3DCC%3DCC%3DC1Cl%29C1%3DCC%3DC%28C%23N%29C%28Cl%29%3DC1%26quot%3B%2C%26quot%3BCC%23C%5BC%40%5D1%28O%29CC%5BC%40H%5D2%5BC%40%40H%5D3CCC4%3DCC%28%3DO%29CCC4%3DC3%5BC%40%40H%5D%28C3%3DCC%3DC%28N%28C%29CCC%28%3DO%29NC4%3DCC%3DC%28C%28N%29%3DO%29C%28O%29%3DC4%29C%3DC3%29C%5BC%40%40%5D21C%26quot%3B%2C%26quot%3BCCCCN1C2%3DCC%3DCC%3DC2C2%3DCC%3DC3NC%28C%29%28C%29C%3DC%28C%29C3%3DC21%26quot%3B%2C%26quot%3BCC%23C%5BC%40%5D1%28O%29CC%5BC%40H%5D2%5BC%40%40H%5D3CCC4%3DCC%28%3DO%29CCC4%3DC3%5BC%40%40H%5D%28C3%3DCC%3DC%28NC%29C%3DC3%29C%5BC%40%40%5D21C%26quot%3B%2C%26quot%3BC%3DC1C%28C%29%3DCCC%28C%29%28C%29%5BC%40%40H%5D1CC1%3DCC%28OC%29%3DC%28Br%29C%3DC1OC%28C%29%3DO%26quot%3B%2C%26quot%3BCC1%3DCC%28C%29%28C%29NC2%3DCC%3DC%28C3%3DC%28C%23N%29SC%3DC3%29C%3DC12%26quot%3B%2C%26quot%3BCN1N%3DNN%3DC1CN%28CC1%3DCC%3DCC%3DC1Cl%29C1%3DCC%3DC%28C%23N%29C%28Cl%29%3DC1%26quot%3B%2C%26quot%3BCOC1%3DCC%3DC%28C2%3DCC%3DC%28%5BC%40H%5D3C%5BC%40%5D4%28C%29%5BC%40%40H%5D%28C%28%3DO%29C5CC5%29CC%5BC%40H%5D4%5BC%40%40H%5D4CCC5%3DCC%28%3DO%29CCC5%3DC43%29C%3DC2%29C%3DN1%26quot%3B%2C%26quot%3BC%3DC1C%3DC%28C%29CC%28C%29%28C%29C1SC1%3DCC%3DC%28%5BN%2B%5D%28%3DO%29%5BO-%5D%29C%3DC1%26quot%3B%2C%26quot%3BCOC1%3DCC%3DCC%3DC1C1%3DCC%3DC2NC%28C%29%28C%29C%3DC%28C%28C%29OCCC3%3DCC%3DCC%28Cl%29%3DC3%29C2%3DC1%26quot%3B%2C%26quot%3BCC1%28C%29OC%28%3DO%29NC2%3DCC%3DC%28C3%3DCC%3DC%28F%29C%28C%23N%29%3DC3%29C%3DC21%26quot%3B%2C%26quot%3BCC%23C%5BC%40%5D1%28O%29CC%5BC%40H%5D2%5BC%40%40H%5D3CCC4%3DCC%28%3DO%29CCC4%3DC3%5BC%40%40H%5D%28C3%3DCC%3DC%28N%28C%29CCCCCC%29C%3DC3%29C%5BC%40%40%5D21C%26quot%3B%2C%26quot%3BCC%23C%5BC%40%5D1%28O%29CC%5BC%40H%5D2%5BC%40%40H%5D3CCC4%3DCC%28%3DO%29CCC4%3DC3%5BC%40%40H%5D%28C3%3DCC%3DC%28N%28C%29C%29C%3DC3%29C%5BC%40%40%5D21C%26quot%3B%2C%26quot%3BCCC1%28CC%29OC%28%3DO%29N%28C%29C2%3DCC%3DC%28NC3%3DCC%3DCC%28Cl%29%3DC3%29C%3DC21%26quot%3B%2C%26quot%3BC%3DC1C%3DC%28C%29CC%28C%29%28C%29C1CC1%3DCC%3DC%28%5BN%2B%5D%28%3DO%29%5BO-%5D%29C%3DC1%26quot%3B%2C%26quot%3BCC%23C%5BC%40%5D1%28O%29CC%5BC%40H%5D2%5BC%40%40H%5D3CCC4%3DCC%28%3DO%29CCC4%3DC3%5BC%40%40H%5D%28C3%3DCC%3DC%28N%28C%29CCCCCC%3DO%29C%3DC3%29C%5BC%40%40%5D21C%26quot%3B%2C%26quot%3BCC%28C1%3DCN%28C%29N%3DN1%29N%28CC1%3DCC%3DCC%3DC1Cl%29C1%3DCC%3DC%28C%23N%29C%28Cl%29%3DC1%26quot%3B%2C%26quot%3BCCOC1%3DCC%3DCC2%3DC1C1%3DCC%3DC%28NS%28C%29%28%3DO%29%3DO%29C%3DC1C%28C1%3DCC%3DCC%3DC1%29O2%26quot%3B%2C%26quot%3BCC%28C%29CC%28C1%3DNN%3DNN1C%29N%28CC1%3DCC%3DCC%3DC1Cl%29C1%3DCC%3DC%28C%23N%29C%28Cl%29%3DC1%26quot%3B%2C%26quot%3BCC%23C%5BC%40%5D1%28O%29CC%5BC%40H%5D2%5BC%40%40H%5D3CCC4%3DCC%28%3DO%29CCC4%3DC3%5BC%40%40H%5D%28C3%3DCC%3DC%28N%28C%29CCCCCCCC%28%3DO%29OC%29C%3DC3%29C%5BC%40%40%5D21C%26quot%3B%2C%26quot%3BCC%23C%5BC%40%5D1%28O%29CC%5BC%40H%5D2%5BC%40%40H%5D3CCC4%3DCC%28%3DO%29CCC4%3DC3%5BC%40%40H%5D%28C3%3DCC%3DC%28N%28C%29C%29C%3DC3%29C%5BC%40%40%5D21C%26quot%3B%2C%26quot%3BCN%28C%29C1%3DCC%3DC%28%5BC%40H%5D2OC%5BC%40%5D3%28C%29%5BC%40%40H%5D%28O%29CC%5BC%40H%5D3%5BC%40%40H%5D3CCC4%3DCC%28%3DO%29CCC4%3DC32%29C%3DC1%26quot%3B%2C%26quot%3BCC%23C%5BC%40%5D1%28O%29CC%5BC%40H%5D2%5BC%40%40H%5D3CCC4%3DCC%28%3DO%29CCC4%3DC3%5BC%40%40H%5D%28C3%3DCC%3DC%28N%28C%29C%28%3DO%29NCCCCCC%28%3DO%29N%5BC%40%40H%5D%28CC%28C%29C%29C%28%3DO%29OC%28C%29%28C%29C%29C%3DC3%29C%5BC%40%40%5D21C%26quot%3B%2C%26quot%3BCC1%3DCC%28C%29%28C%29NC2%3DCC%3DC3C4%3DCC%28F%29%3DCC%3DC4O%2FC%28%3DC%5C%5CC%3DO%29C3%3DC12%26quot%3B%2C%26quot%3BCN%28C%29C1%3DCC%3DC%28%5BC%40H%5D2C%5BC%40%5D3%28C%29%5BC%40%40H%5D%28CC%5BC%40%5D3%28O%29CCCO%29%5BC%40%40H%5D3CCC4%3DCC%28%3DO%29CCC4%3DC32%29C%3DC1%26quot%3B%2C%26quot%3BC%5BC%40%40H%5D1C%5BC%40H%5D2%5BC%40%40H%5D3CCC4%3DCC%28%3DO%29CCC4%3DC3%5BC%40%40H%5D%28C3%3DCC%3DC%28C4%3DCC%3DCC%3DN4%29C%3DC3%29C%5BC%40%5D2%28C%29%5BC%40H%5D1C%28%3DO%29C1CC1%26quot%3B%2C%26quot%3BC%3DC%28C%29%5BC%40%5D1%28O%29CC%5BC%40H%5D2%5BC%40%40H%5D3CCC4%3DCC%28%3DO%29CCC4%3DC3%5BC%40%40H%5D%28C3%3DCC%3DC%28SC%29C%3DC3%29OC%5BC%40%40%5D21C%26quot%3B%2C%26quot%3BCC1%28C%29%5BC%40H%5D%28O%29CC%5BC%40%5D2%28C%29%5BC%40%40%5D3%28C%29C4%3DC%28C%5BC%40%40H%5D3CC%5BC%40%40%5D12O%29C1%3DCC%3DCC%3DC1N4%26quot%3B%2C%26quot%3BC%5BC%40%40H%5D1C2%3DC%28C%3DCC3%3DC2%5BC%40H%5D%28C2%3DCC%3DC%28Cl%29C%3DC2%29OC2%3DCC%3DCC%3DC23%29NC%28C%29%28C%29%5BC%40H%5D1O%26quot%3B%2C%26quot%3BCC1%3DCC%28C%29%28C%29NC2%3DCC3%3DC%28C%3DC12%29C1%3DCC%3DCC%3DC1O3%26quot%3B%5D%2C%26quot%3BX%26quot%3B%3A%5B12.353602409362793%2C-122.50563049316406%2C37.394683837890625%2C-47.21321487426758%2C27.732755661010742%2C-32.763397216796875%2C-32.22846603393555%2C60.99462890625%2C-23.340839385986328%2C-13.62544059753418%2C31.090059280395508%2C60.810157775878906%2C49.40408706665039%2C-6.257357120513916%2C-19.834102630615234%2C12.957009315490723%2C16.309728622436523%2C-10.197650909423828%2C-58.28242874145508%2C-47.40108871459961%2C-11.955804824829102%2C6.25640344619751%2C43.40211868286133%2C8.506491661071777%2C28.286142349243164%2C52.51767349243164%2C29.21065902709961%2C-76.69830322265625%2C70.9244384765625%2C-12.109108924865723%2C75.56938934326172%2C31.3055477142334%2C148.85755920410156%2C1.3134537935256958%2C83.89482116699219%2C55.26549530029297%2C3.0745060443878174%2C-128.70849609375%2C-83.38858795166016%2C-35.13808059692383%2C-45.50944519042969%2C98.80534362792969%2C-53.56370162963867%2C40.59679412841797%2C-53.35222244262695%2C-64.06812286376953%2C10.462693214416504%2C-18.654008865356445%2C-18.341182708740234%5D%2C%26quot%3BY%26quot%3B%3A%5B-70.59868621826172%2C44.99336624145508%2C52.34091567993164%2C54.90385818481445%2C-46.126739501953125%2C27.13886833190918%2C-7.094441890716553%2C42.66442108154297%2C61.082252502441406%2C17.70673370361328%2C32.24564743041992%2C79.58403778076172%2C-53.95060729980469%2C-87.92324829101562%2C-44.61149978637695%2C-7.1274895668029785%2C95.03582763671875%2C-2.757920980453491%2C-13.597476959228516%2C9.922362327575684%2C41.27334213256836%2C-30.804079055786133%2C-3.0907392501831055%2C16.899560928344727%2C11.868257522583008%2C-24.729867935180664%2C-21.3092098236084%2C-37.42161178588867%2C-7.361738204956055%2C-23.06288719177246%2C-40.9326057434082%2C72.04671478271484%2C0.4599226117134094%2C-51.19162368774414%2C20.472871780395508%2C17.234554290771484%2C66.79480743408203%2C3.620389699935913%2C-1.7920873165130615%2C-29.013660430908203%2C-65.313720703125%2C-18.511465072631836%2C-41.260257720947266%2C-78.99517822265625%2C-95.64336395263672%2C28.714473724365234%2C40.6572380065918%2C88.2873306274414%2C-66.7513198852539%5D%2C%26quot%3Btitle%26quot%3B%3A%26quot%3BChemical%20Space%20Plot%26quot%3B%2C%26quot%3Bxaxis_title%26quot%3B%3A%26quot%3BComponent%201%26quot%3B%2C%26quot%3Byaxis_title%26quot%3B%3A%26quot%3BComponent%202%26quot%3B%2C%26quot%3Bhover_size%26quot%3B%3A0.4%2C%26quot%3Bxaxis_type%26quot%3B%3A%26quot%3Blinear%26quot%3B%2C%26quot%3Byaxis_type%26quot%3B%3A%26quot%3Blinear%26quot%3B%2C%26quot%3Bwidth%26quot%3B%3A800%2C%26quot%3Bheight%26quot%3B%3A600%2C%26quot%3Bopacity%26quot%3B%3A0.4%7D%22%20style%3D%22width%3A%20100%25%3B%20height%3A%20100%25%3B%20display%3Ainline-block%3B%22%3E%3C%2Fdiv%3E%0A%20%20%20%20%20%20%20%20%3C%2Fbody%3E%0A%20%20%20%20%20%20%20%20%3C%2Fmeta%3E%0A%20%20%20%20%20%20%20%20%3Cscript%3Evar%20plot%20%3D%20document.getElementById%28%22basevis-entry%22%29%3B%0Avar%20hoverInfo%20%3D%20document.getElementById%28%22basevis-entry2%22%29%3B%0A%0Avar%20data%20%3D%20JSON.parse%28document.getElementById%28%22basevis-entry%22%29.dataset.visdata%29%3B%0A%0Alet%20options%20%3D%20%7B%7D%3B%0Alet%20smilesDrawer%20%3D%20new%20SmilesDrawer.Drawer%28options%29%3B%0A%0Avar%20trace%20%3D%20%7B%0A%20%20x%3A%20data.X%2C%0A%20%20y%3A%20data.Y%2C%0A%20%20text%3A%20data.SMILES%2C%0A%20%20mode%3A%20%22markers%22%2C%0A%20%20type%3A%20%22scatter%22%2C%0A%20%20hoverinfo%3A%20%22none%22%2C%0A%20%20marker%3A%20%7B%7D%2C%0A%7D%3B%0A%0Aif%20%28%22hovertext%22%20in%20data%29%20%7B%0A%20%20trace.hovertext%20%3D%20data.hovertext%3B%0A%20%20trace.hoverinfo%20%3D%20%22text%22%3B%0A%7D%0A%0Aif%20%28%22group%22%20in%20data%29%20%7B%0A%20%20trace.transforms%20%3D%20%5B%7B%20type%3A%20%22groupby%22%2C%20groups%3A%20data.group%20%7D%5D%3B%0A%7D%0A%0Aif%20%28%22hovertemplate%22%20in%20data%29%20%7B%0A%20%20trace.hovertemplate%20%3D%20data.hovertemplate%3B%0A%7D%0A%0Aif%20%28%22color%22%20in%20data%29%20%7B%0A%20%20trace.marker.color%20%3D%20data.color%3B%0A%7D%0A%0Aif%20%28%22size%22%20in%20data%29%20%7B%0A%20%20trace.marker.size%20%3D%20data.size%3B%0A%7D%20else%20%7B%0A%20%20trace.marker.size%20%3D%2012%3B%0A%7D%0A%0Aif%20%28%22outline%22%20in%20data%29%20%7B%0A%20%20trace.marker.line%20%3D%20%7B%0A%20%20%20%20color%3A%20data.outline%2C%0A%20%20%20%20width%3A%204%2C%0A%20%20%7D%3B%0A%7D%0A%0Aif%20%28%22opacity%22%20in%20data%29%20%7B%0A%20%20trace.marker.opacity%20%3D%20data.opacity%3B%0A%7D%0A%0Avar%20plot_data%20%3D%20%5Btrace%5D%3B%0A%0Avar%20layout%20%3D%20%7B%0A%20%20title%3A%20%22Plot%20Title%22%2C%0A%20%20xaxis%3A%20%7B%0A%20%20%20%20title%3A%20%22x%20Axis%22%2C%0A%20%20%7D%2C%0A%20%20yaxis%3A%20%7B%0A%20%20%20%20title%3A%20%22y%20Axis%22%2C%0A%20%20%7D%2C%0A%20%20autosize%3A%20true%2C%0A%7D%3B%0A%0Aif%20%28%22title%22%20in%20data%29%20%7B%0A%20%20layout.title%20%3D%20data.title%3B%0A%7D%0A%0Aif%20%28%22xaxis_title%22%20in%20data%29%20%7B%0A%20%20layout.xaxis.title%20%3D%20data.xaxis_title%3B%0A%7D%0A%0Aif%20%28%22yaxis_title%22%20in%20data%29%20%7B%0A%20%20layout.yaxis.title%20%3D%20data.yaxis_title%3B%0A%7D%0A%0Alayout.xaxis.type%20%3D%20data%5B%22xaxis_type%22%5D%3B%0Alayout.yaxis.type%20%3D%20data%5B%22yaxis_type%22%5D%3B%0A%0Aif%20%28%22ydomain%22%20in%20data%29%7B%0A%20%20layout.yaxis.domain%20%3D%20data.ydomain%3B%0A%7D%0Aif%20%28%22xdomain%22%20in%20data%29%7B%0A%20%20layout.xaxis.domain%20%3D%20data.xdomain%3B%0A%7D%0A%0Aif%20%28%22yrange%22%20in%20data%29%7B%0A%20%20layout.yaxis.range%20%3D%20data.yrange%3B%0A%7D%0Aif%20%28%22xrange%22%20in%20data%29%7B%0A%20%20layout.xaxis.range%20%3D%20data.xrange%3B%0A%7D%0A%0Aif%20%28%22axesratio%22%20in%20data%29%7B%0A%20%20layout.yaxis.scaleanchor%20%3D%20%22x%22%3B%0A%20%20layout.yaxis.scaleratio%20%3D%20data.axesratio%3B%0A%7D%0A%0Aif%20%28%22xdtick%22%20in%20data%29%7B%0A%20%20layout.xaxis.dtick%20%3D%20data.xdtick%3B%0A%7D%0A%0Aif%20%28%22ydtick%22%20in%20data%29%7B%0A%20%20layout.yaxis.dtick%20%3D%20data.ydtick%3B%0A%7D%0A%0Aif%20%28%22color%22%20in%20data%29%20%7B%0A%20%20if%20%28%22colorscale%22%20in%20data%29%20%7B%0A%20%20%20%20trace.colorscale%20%3D%20data.colorscale%3B%0A%20%20%20%20trace.marker.colorscale%20%3D%20data.colorscale%3B%0A%20%20%20%20trace.marker.colorbar%20%3D%20%7B%0A%20%20%20%20%20%20title%3A%20%22%22%2C%0A%20%20%20%20%20%20titleside%3A%20%22top%22%2C%0A%20%20%20%20%7D%3B%0A%20%20%7D%0A%7D%0A%0APlotly.newPlot%28%0A%20%20%22basevis-entry%22%2C%0A%20%20plot_data%2C%0A%20%20layout%2C%0A%20%20%28config%20%3D%20%7B%0A%20%20%20%20displaylogo%3A%20false%2C%0A%20%20%20%20modeBarButtonsToRemove%3A%20%5B%22zoom2d%22%2C%20%22pan2d%22%2C%20%22select2d%22%2C%20%22lasso2d%22%5D%2C%0A%20%20%7D%29%0A%29%3B%0A%0Aif%20%28%22layout_update%22%20in%20data%29%7B%0A%20%20Plotly.update%28%22basevis-entry%22%2C%20%7B%7D%2C%20data.layout_update%29%3B%0A%7D%0A%0Aif%20%28%22trace_update%22%20in%20data%29%7B%0A%20%20Plotly.addTraces%28%22basevis-entry%22%2C%20data.trace_update%29%3B%0A%7D%0A%0Aconst%20hoverCanvas%20%3D%20document.createElement%28%22canvas%22%29%3B%0AhoverCanvas.id%20%3D%20%22hoverCanvas%22%3B%0A%0Aconst%20hoverBackground%20%3D%20document.createElement%28%22canvas%22%29%3B%0AhoverBackground.id%20%3D%20%22hoverBackground%22%3B%0A%0Avar%20hoverSize%20%3D%20parseFloat%28data.hover_size%29%3B%0A%0Aplot.appendChild%28hoverCanvas%29%3B%0Aplot.appendChild%28hoverBackground%29%3B%0A%0Aplot%0A%20%20.on%28%22plotly_hover%22%2C%20function%20%28data%29%20%7B%0A%20%20%20%20var%20xaxis%20%3D%20data.points%5B0%5D.xaxis%2C%0A%20%20%20%20%20%20yaxis%20%3D%20data.points%5B0%5D.yaxis%3B%0A%0A%20%20%20%20data.points.map%28function%20%28d%29%20%7B%0A%20%20%20%20%20%20hoverCanvas.hidden%20%3D%20false%3B%0A%20%20%20%20%20%20hoverBackground.hidden%20%3D%20false%3B%0A%0A%20%20%20%20%20%20ctx%20%3D%20hoverCanvas.getContext%28%222d%22%29%3B%0A%0A%20%20%20%20%20%20SmilesDrawer.parse%28d.text%2C%20function%20%28smiles%29%20%7B%0A%20%20%20%20%20%20%20%20smilesDrawer.draw%28smiles%2C%20%22hoverCanvas%22%2C%20%22light%22%2C%20false%29%3B%0A%20%20%20%20%20%20%7D%29%3B%0A%0A%20%20%20%20%20%20ctx.fillStyle%20%3D%20%22black%22%3B%0A%20%20%20%20%20%20ctx.shadowColor%20%3D%20%22black%22%3B%0A%20%20%20%20%20%20ctx.shadowBlur%20%3D%2020%3B%0A%20%20%20%20%20%20ctx.lineJoin%20%3D%20%22bevel%22%3B%0A%20%20%20%20%20%20ctx.lineWidth%20%3D%2015%3B%0A%20%20%20%20%20%20ctx.strokeRect%280%2C%200%2C%20hoverCanvas.width%2C%20hoverCanvas.height%2C%20%22light%22%29%3B%0A%0A%20%20%20%20%20%20hoverBackground.width%20%3D%20hoverCanvas.width%3B%0A%20%20%20%20%20%20hoverBackground.height%20%3D%20hoverCanvas.height%3B%0A%20%20%20%20%20%20ctx%20%3D%20hoverBackground.getContext%28%222d%22%29%3B%0A%20%20%20%20%20%20ctx.fillStyle%20%3D%20%22white%22%3B%0A%20%20%20%20%20%20ctx.fillRect%280%2C%200%2C%20hoverBackground.width%2C%20hoverBackground.height%29%3B%0A%0A%20%20%20%20%20%20var%20x%20%3D%20%28d.x%20-%20xaxis.range%5B0%5D%29%20%2F%20%28xaxis.range%5B1%5D%20-%20xaxis.range%5B0%5D%29%3B%0A%20%20%20%20%20%20var%20y%20%3D%20%28d.y%20-%20yaxis.range%5B0%5D%29%20%2F%20%28yaxis.range%5B1%5D%20-%20yaxis.range%5B0%5D%29%3B%0A%20%20%20%20%20%20var%20xdir%20%3D%20%28%28x%20%3E%200.5%29%20%3F%20%27right%27%20%3A%20%27left%27%29%3B%0A%20%20%20%20%20%20var%20ydir%20%3D%20%28%28y%20%3E%200.5%29%20%3F%20%27top%27%20%3A%20%27bottom%27%29%3B%0A%20%20%20%20%20%20Plotly.update%28%0A%20%20%20%20%20%20%20%20%22basevis-entry%22%2C%0A%20%20%20%20%20%20%20%20%7B%7D%2C%0A%20%20%20%20%20%20%20%20%7B%0A%20%20%20%20%20%20%20%20%20%20%2F%2F%20margin%3A%20%7B%20t%3A%20100%2C%20b%3A%20100%2C%20l%3A%2050%2C%20r%3A%2050%20%7D%2C%0A%20%20%20%20%20%20%20%20%20%20annotations%3A%20%5B%0A%20%20%20%20%20%20%20%20%20%20%20%20%7B%0A%20%20%20%20%20%20%20%20%20%20%20%20%20%20x%3A%20d.x%2C%0A%20%20%20%20%20%20%20%20%20%20%20%20%20%20y%3A%20d.y%2C%0A%20%20%20%20%20%20%20%20%20%20%20%20%20%20xref%3A%20%22x%22%2C%0A%20%20%20%20%20%20%20%20%20%20%20%20%20%20yref%3A%20%22y%22%2C%0A%20%20%20%20%20%20%20%20%20%20%20%20%20%20text%3A%20%22%22%2C%0A%20%20%20%20%20%20%20%20%20%20%20%20%20%20showarrow%3A%20true%2C%0A%20%20%20%20%20%20%20%20%20%20%20%20%20%20arrowhead%3A%207%2C%0A%20%20%20%20%20%20%20%20%20%20%20%20%20%20ax%3A%200%2C%0A%20%20%20%20%20%20%20%20%20%20%20%20%20%20ay%3A%200%2C%0A%20%20%20%20%20%20%20%20%20%20%20%20%7D%2C%0A%20%20%20%20%20%20%20%20%20%20%5D%2C%0A%20%20%20%20%20%20%20%20%20%20images%3A%20%5B%0A%20%20%20%20%20%20%20%20%20%20%20%20%7B%0A%20%20%20%20%20%20%20%20%20%20%20%20%20%20x%3A%20x%2C%0A%20%20%20%20%20%20%20%20%20%20%20%20%20%20y%3A%20y%2C%0A%20%20%20%20%20%20%20%20%20%20%20%20%20%20sizex%3A%20hoverSize%2C%0A%20%20%20%20%20%20%20%20%20%20%20%20%20%20sizey%3A%20hoverSize%2C%0A%20%20%20%20%20%20%20%20%20%20%20%20%20%20xref%3A%20%22paper%22%2C%0A%20%20%20%20%20%20%20%20%20%20%20%20%20%20yref%3A%20%22paper%22%2C%0A%20%20%20%20%20%20%20%20%20%20%20%20%20%20source%3A%20document.getElementById%28%22hoverBackground%22%29.toDataURL%28%29%2C%0A%20%20%20%20%20%20%20%20%20%20%20%20%20%20xanchor%3A%20xdir%2C%0A%20%20%20%20%20%20%20%20%20%20%20%20%20%20yanchor%3A%20ydir%2C%0A%20%20%20%20%20%20%20%20%20%20%20%20%20%20layer%3A%20%22above%22%2C%0A%20%20%20%20%20%20%20%20%20%20%20%20%7D%2C%0A%20%20%20%20%20%20%20%20%20%20%20%20%7B%0A%20%20%20%20%20%20%20%20%20%20%20%20%20%20x%3A%20x%2C%0A%20%20%20%20%20%20%20%20%20%20%20%20%20%20y%3A%20y%2C%0A%20%20%20%20%20%20%20%20%20%20%20%20%20%20sizex%3A%20hoverSize%2C%0A%20%20%20%20%20%20%20%20%20%20%20%20%20%20sizey%3A%20hoverSize%2C%0A%20%20%20%20%20%20%20%20%20%20%20%20%20%20xref%3A%20%22paper%22%2C%0A%20%20%20%20%20%20%20%20%20%20%20%20%20%20yref%3A%20%22paper%22%2C%0A%20%20%20%20%20%20%20%20%20%20%20%20%20%20source%3A%20document.getElementById%28%22hoverCanvas%22%29.toDataURL%28%29%2C%0A%20%20%20%20%20%20%20%20%20%20%20%20%20%20xanchor%3A%20xdir%2C%0A%20%20%20%20%20%20%20%20%20%20%20%20%20%20yanchor%3A%20ydir%2C%0A%20%20%20%20%20%20%20%20%20%20%20%20%20%20layer%3A%20%22above%22%2C%0A%20%20%20%20%20%20%20%20%20%20%20%20%7D%2C%0A%20%20%20%20%20%20%20%20%20%20%5D%2C%0A%20%20%20%20%20%20%20%20%7D%0A%20%20%20%20%20%20%29%3B%0A%20%20%20%20%20%20hoverCanvas.hidden%20%3D%20true%3B%0A%20%20%20%20%20%20hoverBackground.hidden%20%3D%20true%3B%0A%20%20%20%20%7D%29%3B%0A%20%20%7D%29%0A%20%20.on%28%22plotly_unhover%22%2C%20function%20%28data%29%20%7B%0A%20%20%20%20Plotly.update%28%22basevis-entry%22%2C%20%7B%7D%2C%20%7B%20annotations%3A%20%5B%5D%2C%20images%3A%20%5B%5D%20%7D%29%3B%0A%20%20%7D%29%3B%0A%3C%2Fscript%3E%3Cscript%3E%20window.addEventListener%28%22resize%22%2C%20function%28%29%7Bif%20%28document.getElementById%28%22basevis-entry%22%29%29%20%7BPlotly.Plots.resize%28document.getElementById%28%22basevis-entry%22%29%29%3B%7D%3B%7D%29%20%3C%2Fscript%3E\n",
      "3caa3ad6-66dc-4d82-ba62-5743ba76b3ef\n"
     ]
    }
   ],
   "source": [
    "import olorenchemengine as oce\n",
    "\n",
    "# oce.runtime.change_runtime(\"server\")\n",
    "\n",
    "with oce.Remote(\"192.18\") as sid:\n",
    "   \n",
    "    model = oce.BaseBoosting(\n",
    "        [\n",
    "            oce.RandomForestModel(oce.DescriptastorusDescriptor(\"rdkit2dnormalized\"), n_estimators=1000),\n",
    "            oce.RandomForestModel(oce.OlorenCheckpoint(\"default\"), n_estimators=1000),\n",
    "        ]\n",
    "    )\n",
    "    model.fit(*dataset.train_dataset)\n",
    "    vis = oce.ChemicalSpacePlot(dataset, oce.DescriptastorusDescriptor(\"morgan3counts\"), opacity=0.4, dim_reduction=\"tsne\")\n",
    "    vis.render_ipynb()\n",
    "    print(vis.render_data_url())\n",
    "\n",
    "print(sid)"
   ]
  },
  {
   "cell_type": "code",
   "execution_count": 3,
   "metadata": {},
   "outputs": [
    {
     "data": {
      "text/plain": [
       "<bound method IFrame._repr_html_ of <IPython.lib.display.IFrame object at 0x7fbe363a1d90>>"
      ]
     },
     "execution_count": 3,
     "metadata": {},
     "output_type": "execute_result"
    }
   ],
   "source": [
    "x._repr_html_()"
   ]
  },
  {
   "cell_type": "code",
   "execution_count": 6,
   "metadata": {},
   "outputs": [
    {
     "name": "stdout",
     "output_type": "stream",
     "text": [
      "Remote Call Resulted in Traceback:\n",
      "Traceback (most recent call last):\n",
      "  File \"/live/./firestore.py\", line 295, in run\n",
      "    self.memory[instruction[\"REMOTE_ID\"]] = getattr(\n",
      "AttributeError: 'builtin_function_or_method' object has no attribute '_partialmethod'\n",
      "\n",
      "During handling of the above exception, another exception occurred:\n",
      "\n",
      "Traceback (most recent call last):\n",
      "  File \"/live/./util.py\", line 119, in wrapper\n",
      "    ret = func(*args, **kwargs)\n",
      "  File \"/live/./firestore.py\", line 346, in run\n",
      "    out = runner.run()\n",
      "  File \"/live/./firestore.py\", line 327, in run\n",
      "    raise RuntimeError(f\"Instruction {instruction} failed. Traceback:\\n{traceback.format_exc()}\")\n",
      "RuntimeError: Instruction {'type': 'SYMBOL', 'PARENT_REMOTE_ID': '4d44f827-2958-4540-9585-22d54d7f7c83', 'SYMBOL_NAME': '_partialmethod', 'REMOTE_ID': '7da67778-6cb4-4467-9076-407471419f98'} failed. Traceback:\n",
      "Traceback (most recent call last):\n",
      "  File \"/live/./firestore.py\", line 295, in run\n",
      "    self.memory[instruction[\"REMOTE_ID\"]] = getattr(\n",
      "AttributeError: 'builtin_function_or_method' object has no attribute '_partialmethod'\n",
      "\n",
      "\n"
     ]
    },
    {
     "ename": "SystemExit",
     "evalue": "0",
     "output_type": "error",
     "traceback": [
      "An exception has occurred, use %tb to see the full traceback.\n",
      "\u001b[0;31mSystemExit\u001b[0m\u001b[0;31m:\u001b[0m 0\n"
     ]
    }
   ],
   "source": []
  },
  {
   "cell_type": "code",
   "execution_count": 4,
   "metadata": {},
   "outputs": [
    {
     "data": {
      "text/plain": [
       "['__class__',\n",
       " '__delattr__',\n",
       " '__dict__',\n",
       " '__dir__',\n",
       " '__doc__',\n",
       " '__eq__',\n",
       " '__format__',\n",
       " '__ge__',\n",
       " '__getattribute__',\n",
       " '__gt__',\n",
       " '__hash__',\n",
       " '__init__',\n",
       " '__init_subclass__',\n",
       " '__le__',\n",
       " '__lt__',\n",
       " '__module__',\n",
       " '__ne__',\n",
       " '__new__',\n",
       " '__reduce__',\n",
       " '__reduce_ex__',\n",
       " '__repr__',\n",
       " '__setattr__',\n",
       " '__sizeof__',\n",
       " '__str__',\n",
       " '__subclasshook__',\n",
       " '__weakref__',\n",
       " '_repr_html_',\n",
       " 'extras',\n",
       " 'height',\n",
       " 'iframe',\n",
       " 'params',\n",
       " 'src',\n",
       " 'width']"
      ]
     },
     "execution_count": 4,
     "metadata": {},
     "output_type": "execute_result"
    }
   ],
   "source": [
    "dir(x.REMOTE_IPYNB.__repr__html)"
   ]
  },
  {
   "cell_type": "code",
   "execution_count": 1,
   "metadata": {},
   "outputs": [
    {
     "ename": "NameError",
     "evalue": "name 'x' is not defined",
     "output_type": "error",
     "traceback": [
      "\u001b[0;31m---------------------------------------------------------------------------\u001b[0m",
      "\u001b[0;31mNameError\u001b[0m                                 Traceback (most recent call last)",
      "Cell \u001b[0;32mIn [1], line 1\u001b[0m\n\u001b[0;32m----> 1\u001b[0m \u001b[43mx\u001b[49m\n",
      "\u001b[0;31mNameError\u001b[0m: name 'x' is not defined"
     ]
    }
   ],
   "source": [
    "x"
   ]
  },
  {
   "cell_type": "code",
   "execution_count": null,
   "metadata": {},
   "outputs": [
    {
     "name": "stdout",
     "output_type": "stream",
     "text": [
      "CREATE 3c0debe1-47d3-425c-8068-1768a2c7ad36 = BaseDataset(args=[], kwargs={'name': None, 'data': None, 'structure_col': None, 'property_col': None, 'feature_cols': [], 'date_col': None, 'log': True})\n",
      "olorenchemengine.dataset.BaseDataset\n"
     ]
    }
   ],
   "source": [
    "def true_repr(x):\n",
    "    type_ = type(x)\n",
    "    module = type_.__module__\n",
    "    qualname = type_.__qualname__\n",
    "    return f\"{module}.{qualname}\"\n",
    "\n",
    "print()"
   ]
  },
  {
   "cell_type": "code",
   "execution_count": null,
   "metadata": {},
   "outputs": [],
   "source": []
  }
 ],
 "metadata": {
  "kernelspec": {
   "display_name": "Python 3.8.13 ('oce-simple')",
   "language": "python",
   "name": "python3"
  },
  "language_info": {
   "codemirror_mode": {
    "name": "ipython",
    "version": 3
   },
   "file_extension": ".py",
   "mimetype": "text/x-python",
   "name": "python",
   "nbconvert_exporter": "python",
   "pygments_lexer": "ipython3",
   "version": "3.8.13"
  },
  "orig_nbformat": 4,
  "vscode": {
   "interpreter": {
    "hash": "cedbf81c86601aba4a696fe86da861ed7ff4d0ddc5eaf4dacff48455d1686233"
   }
  }
 },
 "nbformat": 4,
 "nbformat_minor": 2
}
