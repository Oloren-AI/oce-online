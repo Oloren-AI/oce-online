{
    "cells": [
        {
            "cell_type": "markdown",
            "metadata": {},
            "source": [
                "# Hyperparameter Optimization\n",
                "\n",
                "We'll be using oce's hyperparameter optimization engine, powered by hyperopt, to create a stronger model of Caco-2 permeability"
            ]
        },
        {
            "cell_type": "code",
            "execution_count": null,
            "metadata": {},
            "outputs": [],
            "source": [
                "# We'll first be downloading the data as described in 1A.\n",
                "\n",
                "import olorenchemengine as oce\n",
                "\n",
                "import requests\n",
                "from sklearn import metrics\n",
                "r = requests.get(\"https://ndownloader.figstatic.com/files/4917022\")\n",
                "open(\"caco2_data.xlsx\" , 'wb').write(r.content)\n",
                "\n",
                "import pandas as pd\n",
                "import numpy as np\n",
                "\n",
                "df = pd.read_excel(\"caco2_data.xlsx\")\n",
                "\n",
                "df[\"split\"] = df[\"Dataset\"].replace({\"Tr\": \"train\", \"Te\": \"test\"})\n",
                "df = df[[\"smi\", \"split\", \"logPapp\"]].dropna()\n",
                "\n",
                "import random\n",
                "p = 0.8\n",
                "train_size = int(len(df[df[\"split\"]==\"train\"]) * p)\n",
                "val_size = len(df[df[\"split\"]==\"train\"]) - train_size\n",
                "l = [\"valid\"]*val_size + [\"train\"]*train_size\n",
                "random.shuffle(l)\n",
                "df.loc[df[\"split\"] == \"train\", \"split\"] = l\n",
                "\n",
                "def isfloat(num):\n",
                "    try:\n",
                "        float(num)\n",
                "        return True\n",
                "    except ValueError:\n",
                "        return False\n",
                "df = df[df[\"logPapp\"].apply(isfloat)]\n",
                "\n",
                "df[\"logPapp\"] = df[\"logPapp\"].astype('float')\n",
                "\n",
                "dataset = oce.BaseDataset(data = df.to_csv(), structure_col=\"smi\", property_col=\"logPapp\")\n",
                "manager = oce.ModelManager(dataset, metrics=\"Root Mean Squared Error\", file_path=\"1C_manager.oce\")"
            ]
        },
        {
            "cell_type": "code",
            "execution_count": null,
            "metadata": {},
            "outputs": [],
            "source": [
                "# Here we will be using a short-list of good model architectures and hyperparameter\n",
                "# values, which were found using the Therapeutic Data Commons ADMET dataset collection.\n",
                "\n",
                "manager.run(oce.TOP_MODELS_ADMET())"
            ]
        },
        {
            "cell_type": "code",
            "execution_count": null,
            "metadata": {},
            "outputs": [],
            "source": [
                "model = oce.BaseBoosting(\n",
                "    [oce.RandomForestModel(oce.OptChoice(\"descriptor1\", [oce.GobbiPharma2D(), oce.Mol2Vec(), oce.DescriptastorusDescriptor(\"rdkit2dnormalized\"), oce.DescriptastorusDescriptor(\"morgan3counts\"), oce.OlorenCheckpoint(\"default\")]),\n",
                "        n_estimators=oce.OptChoice(\"n_estimators1\", [10, 500, 1000, 2000]),\n",
                "        max_features = oce.OptChoice(\"max_features1\", [\"log2\", \"auto\"]),),\n",
                "    oce.RandomForestModel(oce.OptChoice(\"descriptor2\", [oce.GobbiPharma2D(), oce.Mol2Vec(), oce.DescriptastorusDescriptor(\"rdkit2dnormalized\"), oce.DescriptastorusDescriptor(\"morgan3counts\"), oce.OlorenCheckpoint(\"default\")]),\n",
                "        n_estimators=oce.OptChoice(\"n_estimators2\", [10, 500, 1000, 2000]),\n",
                "        max_features = oce.OptChoice(\"max_features2\", [\"log2\", \"auto\"]),),\n",
                "    oce.RandomForestModel(oce.OptChoice(\"descriptor3\", [oce.GobbiPharma2D(), oce.Mol2Vec(), oce.DescriptastorusDescriptor(\"rdkit2dnormalized\"), oce.DescriptastorusDescriptor(\"morgan3counts\"), oce.OlorenCheckpoint(\"default\")]),\n",
                "        n_estimators=oce.OptChoice(\"n_estimators3\", [10, 500, 1000, 2000]),\n",
                "        max_features = oce.OptChoice(\"max_features3\", [\"log2\", \"auto\"]),)]\n",
                ")"
            ]
        },
        {
            "cell_type": "code",
            "execution_count": null,
            "metadata": {},
            "outputs": [],
            "source": [
                "best = oce.optimize(model, manager, max_evals=100)"
            ]
        },
        {
            "cell_type": "code",
            "execution_count": null,
            "metadata": {},
            "outputs": [],
            "source": [
                "manager.get_model_database().sort_values(by=\"Root Mean Squared Error\", ascending=True)"
            ]
        },
        {
            "cell_type": "code",
            "execution_count": 5,
            "metadata": {},
            "outputs": [
                {
                    "data": {
                        "text/html": [
                            "<div>\n",
                            "<style scoped>\n",
                            "    .dataframe tbody tr th:only-of-type {\n",
                            "        vertical-align: middle;\n",
                            "    }\n",
                            "\n",
                            "    .dataframe tbody tr th {\n",
                            "        vertical-align: top;\n",
                            "    }\n",
                            "\n",
                            "    .dataframe thead th {\n",
                            "        text-align: right;\n",
                            "    }\n",
                            "</style>\n",
                            "<table border=\"1\" class=\"dataframe\">\n",
                            "  <thead>\n",
                            "    <tr style=\"text-align: right;\">\n",
                            "      <th></th>\n",
                            "      <th>Model Name</th>\n",
                            "      <th>Model Parameters</th>\n",
                            "      <th>Fitting Time</th>\n",
                            "      <th>Root Mean Squared Error</th>\n",
                            "    </tr>\n",
                            "  </thead>\n",
                            "  <tbody>\n",
                            "    <tr>\n",
                            "      <th>94</th>\n",
                            "      <td>BaseBoosting 8K36OOLO</td>\n",
                            "      <td>{'BC_class_name': 'BaseBoosting', 'args': [[{'...</td>\n",
                            "      <td>91.027555</td>\n",
                            "      <td>0.335641</td>\n",
                            "    </tr>\n",
                            "    <tr>\n",
                            "      <th>95</th>\n",
                            "      <td>BaseBoosting k8-gHshR</td>\n",
                            "      <td>{'BC_class_name': 'BaseBoosting', 'args': [[{'...</td>\n",
                            "      <td>677.343201</td>\n",
                            "      <td>0.339610</td>\n",
                            "    </tr>\n",
                            "    <tr>\n",
                            "      <th>10</th>\n",
                            "      <td>BaseBoosting cZHDmmMV</td>\n",
                            "      <td>{'BC_class_name': 'BaseBoosting', 'args': [[{'...</td>\n",
                            "      <td>262.673683</td>\n",
                            "      <td>0.341740</td>\n",
                            "    </tr>\n",
                            "    <tr>\n",
                            "      <th>93</th>\n",
                            "      <td>BaseBoosting K4L62AtM</td>\n",
                            "      <td>{'BC_class_name': 'BaseBoosting', 'args': [[{'...</td>\n",
                            "      <td>59.878670</td>\n",
                            "      <td>0.343320</td>\n",
                            "    </tr>\n",
                            "    <tr>\n",
                            "      <th>97</th>\n",
                            "      <td>BaseBoosting 6v_E8N2p</td>\n",
                            "      <td>{'BC_class_name': 'BaseBoosting', 'args': [[{'...</td>\n",
                            "      <td>66.435989</td>\n",
                            "      <td>0.349018</td>\n",
                            "    </tr>\n",
                            "    <tr>\n",
                            "      <th>...</th>\n",
                            "      <td>...</td>\n",
                            "      <td>...</td>\n",
                            "      <td>...</td>\n",
                            "      <td>...</td>\n",
                            "    </tr>\n",
                            "    <tr>\n",
                            "      <th>8</th>\n",
                            "      <td>KNN 20fz7vhA</td>\n",
                            "      <td>{'BC_class_name': 'KNN', 'args': [{'BC_class_n...</td>\n",
                            "      <td>1.294361</td>\n",
                            "      <td>0.525758</td>\n",
                            "    </tr>\n",
                            "    <tr>\n",
                            "      <th>21</th>\n",
                            "      <td>BaseBoosting m_RXV5dC</td>\n",
                            "      <td>{'BC_class_name': 'BaseBoosting', 'args': [[{'...</td>\n",
                            "      <td>703.818117</td>\n",
                            "      <td>0.533155</td>\n",
                            "    </tr>\n",
                            "    <tr>\n",
                            "      <th>92</th>\n",
                            "      <td>ChemPropModel TuX4IIuT</td>\n",
                            "      <td>{'BC_class_name': 'ChemPropModel', 'args': [],...</td>\n",
                            "      <td>13.275340</td>\n",
                            "      <td>0.538600</td>\n",
                            "    </tr>\n",
                            "    <tr>\n",
                            "      <th>91</th>\n",
                            "      <td>ChemPropModel TuX4IIuT</td>\n",
                            "      <td>{'BC_class_name': 'ChemPropModel', 'args': [],...</td>\n",
                            "      <td>17.817980</td>\n",
                            "      <td>5.149165</td>\n",
                            "    </tr>\n",
                            "    <tr>\n",
                            "      <th>89</th>\n",
                            "      <td>ChemPropModel 7l6982xF</td>\n",
                            "      <td>{'BC_class_name': 'ChemPropModel', 'args': [],...</td>\n",
                            "      <td>4.267098</td>\n",
                            "      <td>5.150783</td>\n",
                            "    </tr>\n",
                            "  </tbody>\n",
                            "</table>\n",
                            "<p>98 rows × 4 columns</p>\n",
                            "</div>"
                        ],
                        "text/plain": [
                            "                Model Name                                   Model Parameters  \\\n",
                            "94   BaseBoosting 8K36OOLO  {'BC_class_name': 'BaseBoosting', 'args': [[{'...   \n",
                            "95   BaseBoosting k8-gHshR  {'BC_class_name': 'BaseBoosting', 'args': [[{'...   \n",
                            "10   BaseBoosting cZHDmmMV  {'BC_class_name': 'BaseBoosting', 'args': [[{'...   \n",
                            "93   BaseBoosting K4L62AtM  {'BC_class_name': 'BaseBoosting', 'args': [[{'...   \n",
                            "97   BaseBoosting 6v_E8N2p  {'BC_class_name': 'BaseBoosting', 'args': [[{'...   \n",
                            "..                     ...                                                ...   \n",
                            "8             KNN 20fz7vhA  {'BC_class_name': 'KNN', 'args': [{'BC_class_n...   \n",
                            "21   BaseBoosting m_RXV5dC  {'BC_class_name': 'BaseBoosting', 'args': [[{'...   \n",
                            "92  ChemPropModel TuX4IIuT  {'BC_class_name': 'ChemPropModel', 'args': [],...   \n",
                            "91  ChemPropModel TuX4IIuT  {'BC_class_name': 'ChemPropModel', 'args': [],...   \n",
                            "89  ChemPropModel 7l6982xF  {'BC_class_name': 'ChemPropModel', 'args': [],...   \n",
                            "\n",
                            "    Fitting Time  Root Mean Squared Error  \n",
                            "94     91.027555                 0.335641  \n",
                            "95    677.343201                 0.339610  \n",
                            "10    262.673683                 0.341740  \n",
                            "93     59.878670                 0.343320  \n",
                            "97     66.435989                 0.349018  \n",
                            "..           ...                      ...  \n",
                            "8       1.294361                 0.525758  \n",
                            "21    703.818117                 0.533155  \n",
                            "92     13.275340                 0.538600  \n",
                            "91     17.817980                 5.149165  \n",
                            "89      4.267098                 5.150783  \n",
                            "\n",
                            "[98 rows x 4 columns]"
                        ]
                    },
                    "execution_count": 5,
                    "metadata": {},
                    "output_type": "execute_result"
                }
            ],
            "source": [
                "manager.get_model_database().sort_values(by=\"Root Mean Squared Error\", ascending=True)"
            ]
        },
        {
            "cell_type": "code",
            "execution_count": 6,
            "metadata": {},
            "outputs": [
                {
                    "name": "stderr",
                    "output_type": "stream",
                    "text": [
                        "255it [00:00, 439.32it/s]\n",
                        "100%|██████████| 6/6 [00:00<00:00, 72.42it/s]\n"
                    ]
                },
                {
                    "data": {
                        "text/plain": [
                            "{'r2': 0.7555024600133741,\n",
                            " 'Explained Variance': 0.7555024603158613,\n",
                            " 'Max Error': 1.3791490625619556,\n",
                            " 'Mean Absolute Error': 0.28752496358544677,\n",
                            " 'Mean Squared Error': 0.14721778747961853,\n",
                            " 'Root Mean Squared Error': 0.383689702076585}"
                        ]
                    },
                    "execution_count": 6,
                    "metadata": {},
                    "output_type": "execute_result"
                }
            ],
            "source": [
                "manager.best_model.test(*dataset.test_dataset)"
            ]
        }
    ],
    "metadata": {
        "kernelspec": {
            "display_name": "Python 3.8.12 ('rnd')",
            "language": "python",
            "name": "python3"
        },
        "language_info": {
            "codemirror_mode": {
                "name": "ipython",
                "version": 3
            },
            "file_extension": ".py",
            "mimetype": "text/x-python",
            "name": "python",
            "nbconvert_exporter": "python",
            "pygments_lexer": "ipython3",
            "version": "3.8.12"
        },
        "orig_nbformat": 4,
        "vscode": {
            "interpreter": {
                "hash": "2737a8bafcf987c5da2b35448984cd3429834ba4ef447fa26190a54c978c2c20"
            }
        }
    },
    "nbformat": 4,
    "nbformat_minor": 2
}